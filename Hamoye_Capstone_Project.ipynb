{
  "nbformat": 4,
  "nbformat_minor": 0,
  "metadata": {
    "colab": {
      "name": "Hamoye_Capstone_Project.ipynb",
      "provenance": [],
      "collapsed_sections": [],
      "authorship_tag": "ABX9TyM6P0x5envujiLzqxp16Yey",
      "include_colab_link": true
    },
    "kernelspec": {
      "name": "python3",
      "display_name": "Python 3"
    },
    "language_info": {
      "name": "python"
    },
    "accelerator": "GPU"
  },
  "cells": [
    {
      "cell_type": "markdown",
      "metadata": {
        "id": "view-in-github",
        "colab_type": "text"
      },
      "source": [
        "<a href=\"https://colab.research.google.com/github/nagamouni/Capstone_project_ridge_lasso/blob/main/Hamoye_Capstone_Project.ipynb\" target=\"_parent\"><img src=\"https://colab.research.google.com/assets/colab-badge.svg\" alt=\"Open In Colab\"/></a>"
      ]
    },
    {
      "cell_type": "markdown",
      "source": [
        "# **Women's International Football Results**"
      ],
      "metadata": {
        "id": "dzJeihzqpW6J"
      }
    },
    {
      "cell_type": "markdown",
      "source": [
        "### **Problem Statement**\n",
        "\n",
        "\n",
        "*   Train a machine learning model to predict the results of Women's International Football across different teams based on home advantage\n",
        "\n"
      ],
      "metadata": {
        "id": "Vd7ACpj9pcE0"
      }
    },
    {
      "cell_type": "markdown",
      "source": [
        "#### **Data Source**\n",
        "This data was sourced from the Project Leader's github repo via the link: https://github.com/nagamouni/Capstone_project_ridge_lasso"
      ],
      "metadata": {
        "id": "NZwsioDYrQ7q"
      }
    },
    {
      "cell_type": "markdown",
      "source": [
        "### **Data Preprocessing**"
      ],
      "metadata": {
        "id": "6U6sfDbIsg8s"
      }
    },
    {
      "cell_type": "code",
      "source": [
        "url1 = 'https://raw.githubusercontent.com/nagamouni/Capstone_project_ridge_lasso/main/results.csv'\n",
        "url2 = 'https://raw.githubusercontent.com/nagamouni/Capstone_project_ridge_lasso/main/shootouts.csv'"
      ],
      "metadata": {
        "id": "3BGSk-V1v3Bd"
      },
      "execution_count": 1,
      "outputs": []
    },
    {
      "cell_type": "code",
      "source": [
        "import pandas as pd\n",
        "df_results = pd.read_csv(url1, sep=',')\n",
        "df_results.head()"
      ],
      "metadata": {
        "colab": {
          "base_uri": "https://localhost:8080/",
          "height": 206
        },
        "id": "-3_YPfYjwvfM",
        "outputId": "b65b22b7-5fcb-4b9a-ec2a-1603f20e830c"
      },
      "execution_count": 2,
      "outputs": [
        {
          "output_type": "execute_result",
          "data": {
            "text/plain": [
              "         date home_team  away_team  home_score  away_score        tournament  \\\n",
              "0  1969-11-01     Italy     France           1           0              Euro   \n",
              "1  1969-11-01   Denmark    England           4           3              Euro   \n",
              "2  1969-11-02   England     France           2           0              Euro   \n",
              "3  1969-11-02     Italy    Denmark           3           1              Euro   \n",
              "4  1975-08-25  Thailand  Australia           3           2  AFC Championship   \n",
              "\n",
              "        city    country  neutral  \n",
              "0     Novara      Italy    False  \n",
              "1      Aosta      Italy     True  \n",
              "2      Turin      Italy     True  \n",
              "3      Turin      Italy    False  \n",
              "4  Hong Kong  Hong Kong     True  "
            ],
            "text/html": [
              "\n",
              "  <div id=\"df-f1a1a534-c3a5-4992-9315-d8654ae01966\">\n",
              "    <div class=\"colab-df-container\">\n",
              "      <div>\n",
              "<style scoped>\n",
              "    .dataframe tbody tr th:only-of-type {\n",
              "        vertical-align: middle;\n",
              "    }\n",
              "\n",
              "    .dataframe tbody tr th {\n",
              "        vertical-align: top;\n",
              "    }\n",
              "\n",
              "    .dataframe thead th {\n",
              "        text-align: right;\n",
              "    }\n",
              "</style>\n",
              "<table border=\"1\" class=\"dataframe\">\n",
              "  <thead>\n",
              "    <tr style=\"text-align: right;\">\n",
              "      <th></th>\n",
              "      <th>date</th>\n",
              "      <th>home_team</th>\n",
              "      <th>away_team</th>\n",
              "      <th>home_score</th>\n",
              "      <th>away_score</th>\n",
              "      <th>tournament</th>\n",
              "      <th>city</th>\n",
              "      <th>country</th>\n",
              "      <th>neutral</th>\n",
              "    </tr>\n",
              "  </thead>\n",
              "  <tbody>\n",
              "    <tr>\n",
              "      <th>0</th>\n",
              "      <td>1969-11-01</td>\n",
              "      <td>Italy</td>\n",
              "      <td>France</td>\n",
              "      <td>1</td>\n",
              "      <td>0</td>\n",
              "      <td>Euro</td>\n",
              "      <td>Novara</td>\n",
              "      <td>Italy</td>\n",
              "      <td>False</td>\n",
              "    </tr>\n",
              "    <tr>\n",
              "      <th>1</th>\n",
              "      <td>1969-11-01</td>\n",
              "      <td>Denmark</td>\n",
              "      <td>England</td>\n",
              "      <td>4</td>\n",
              "      <td>3</td>\n",
              "      <td>Euro</td>\n",
              "      <td>Aosta</td>\n",
              "      <td>Italy</td>\n",
              "      <td>True</td>\n",
              "    </tr>\n",
              "    <tr>\n",
              "      <th>2</th>\n",
              "      <td>1969-11-02</td>\n",
              "      <td>England</td>\n",
              "      <td>France</td>\n",
              "      <td>2</td>\n",
              "      <td>0</td>\n",
              "      <td>Euro</td>\n",
              "      <td>Turin</td>\n",
              "      <td>Italy</td>\n",
              "      <td>True</td>\n",
              "    </tr>\n",
              "    <tr>\n",
              "      <th>3</th>\n",
              "      <td>1969-11-02</td>\n",
              "      <td>Italy</td>\n",
              "      <td>Denmark</td>\n",
              "      <td>3</td>\n",
              "      <td>1</td>\n",
              "      <td>Euro</td>\n",
              "      <td>Turin</td>\n",
              "      <td>Italy</td>\n",
              "      <td>False</td>\n",
              "    </tr>\n",
              "    <tr>\n",
              "      <th>4</th>\n",
              "      <td>1975-08-25</td>\n",
              "      <td>Thailand</td>\n",
              "      <td>Australia</td>\n",
              "      <td>3</td>\n",
              "      <td>2</td>\n",
              "      <td>AFC Championship</td>\n",
              "      <td>Hong Kong</td>\n",
              "      <td>Hong Kong</td>\n",
              "      <td>True</td>\n",
              "    </tr>\n",
              "  </tbody>\n",
              "</table>\n",
              "</div>\n",
              "      <button class=\"colab-df-convert\" onclick=\"convertToInteractive('df-f1a1a534-c3a5-4992-9315-d8654ae01966')\"\n",
              "              title=\"Convert this dataframe to an interactive table.\"\n",
              "              style=\"display:none;\">\n",
              "        \n",
              "  <svg xmlns=\"http://www.w3.org/2000/svg\" height=\"24px\"viewBox=\"0 0 24 24\"\n",
              "       width=\"24px\">\n",
              "    <path d=\"M0 0h24v24H0V0z\" fill=\"none\"/>\n",
              "    <path d=\"M18.56 5.44l.94 2.06.94-2.06 2.06-.94-2.06-.94-.94-2.06-.94 2.06-2.06.94zm-11 1L8.5 8.5l.94-2.06 2.06-.94-2.06-.94L8.5 2.5l-.94 2.06-2.06.94zm10 10l.94 2.06.94-2.06 2.06-.94-2.06-.94-.94-2.06-.94 2.06-2.06.94z\"/><path d=\"M17.41 7.96l-1.37-1.37c-.4-.4-.92-.59-1.43-.59-.52 0-1.04.2-1.43.59L10.3 9.45l-7.72 7.72c-.78.78-.78 2.05 0 2.83L4 21.41c.39.39.9.59 1.41.59.51 0 1.02-.2 1.41-.59l7.78-7.78 2.81-2.81c.8-.78.8-2.07 0-2.86zM5.41 20L4 18.59l7.72-7.72 1.47 1.35L5.41 20z\"/>\n",
              "  </svg>\n",
              "      </button>\n",
              "      \n",
              "  <style>\n",
              "    .colab-df-container {\n",
              "      display:flex;\n",
              "      flex-wrap:wrap;\n",
              "      gap: 12px;\n",
              "    }\n",
              "\n",
              "    .colab-df-convert {\n",
              "      background-color: #E8F0FE;\n",
              "      border: none;\n",
              "      border-radius: 50%;\n",
              "      cursor: pointer;\n",
              "      display: none;\n",
              "      fill: #1967D2;\n",
              "      height: 32px;\n",
              "      padding: 0 0 0 0;\n",
              "      width: 32px;\n",
              "    }\n",
              "\n",
              "    .colab-df-convert:hover {\n",
              "      background-color: #E2EBFA;\n",
              "      box-shadow: 0px 1px 2px rgba(60, 64, 67, 0.3), 0px 1px 3px 1px rgba(60, 64, 67, 0.15);\n",
              "      fill: #174EA6;\n",
              "    }\n",
              "\n",
              "    [theme=dark] .colab-df-convert {\n",
              "      background-color: #3B4455;\n",
              "      fill: #D2E3FC;\n",
              "    }\n",
              "\n",
              "    [theme=dark] .colab-df-convert:hover {\n",
              "      background-color: #434B5C;\n",
              "      box-shadow: 0px 1px 3px 1px rgba(0, 0, 0, 0.15);\n",
              "      filter: drop-shadow(0px 1px 2px rgba(0, 0, 0, 0.3));\n",
              "      fill: #FFFFFF;\n",
              "    }\n",
              "  </style>\n",
              "\n",
              "      <script>\n",
              "        const buttonEl =\n",
              "          document.querySelector('#df-f1a1a534-c3a5-4992-9315-d8654ae01966 button.colab-df-convert');\n",
              "        buttonEl.style.display =\n",
              "          google.colab.kernel.accessAllowed ? 'block' : 'none';\n",
              "\n",
              "        async function convertToInteractive(key) {\n",
              "          const element = document.querySelector('#df-f1a1a534-c3a5-4992-9315-d8654ae01966');\n",
              "          const dataTable =\n",
              "            await google.colab.kernel.invokeFunction('convertToInteractive',\n",
              "                                                     [key], {});\n",
              "          if (!dataTable) return;\n",
              "\n",
              "          const docLinkHtml = 'Like what you see? Visit the ' +\n",
              "            '<a target=\"_blank\" href=https://colab.research.google.com/notebooks/data_table.ipynb>data table notebook</a>'\n",
              "            + ' to learn more about interactive tables.';\n",
              "          element.innerHTML = '';\n",
              "          dataTable['output_type'] = 'display_data';\n",
              "          await google.colab.output.renderOutput(dataTable, element);\n",
              "          const docLink = document.createElement('div');\n",
              "          docLink.innerHTML = docLinkHtml;\n",
              "          element.appendChild(docLink);\n",
              "        }\n",
              "      </script>\n",
              "    </div>\n",
              "  </div>\n",
              "  "
            ]
          },
          "metadata": {},
          "execution_count": 2
        }
      ]
    },
    {
      "cell_type": "code",
      "source": [
        "df_shootouts = pd.read_csv(url2, sep=',')\n",
        "df_shootouts.head()"
      ],
      "metadata": {
        "colab": {
          "base_uri": "https://localhost:8080/",
          "height": 206
        },
        "id": "1Y6zS8tYSBGX",
        "outputId": "f575c6ea-8339-4d31-b52a-78b55a4f5c47"
      },
      "execution_count": 3,
      "outputs": [
        {
          "output_type": "execute_result",
          "data": {
            "text/plain": [
              "         date      home_team      away_team         winner\n",
              "0  1995-06-13         Sweden       China PR       China PR\n",
              "1  1999-07-10         Brazil         Norway         Brazil\n",
              "2  1999-07-10  United States       China PR  United States\n",
              "3  2011-07-09        England         France         France\n",
              "4  2011-07-10         Brazil  United States  United States"
            ],
            "text/html": [
              "\n",
              "  <div id=\"df-3332551c-9997-4074-9a36-30b5f5cc366e\">\n",
              "    <div class=\"colab-df-container\">\n",
              "      <div>\n",
              "<style scoped>\n",
              "    .dataframe tbody tr th:only-of-type {\n",
              "        vertical-align: middle;\n",
              "    }\n",
              "\n",
              "    .dataframe tbody tr th {\n",
              "        vertical-align: top;\n",
              "    }\n",
              "\n",
              "    .dataframe thead th {\n",
              "        text-align: right;\n",
              "    }\n",
              "</style>\n",
              "<table border=\"1\" class=\"dataframe\">\n",
              "  <thead>\n",
              "    <tr style=\"text-align: right;\">\n",
              "      <th></th>\n",
              "      <th>date</th>\n",
              "      <th>home_team</th>\n",
              "      <th>away_team</th>\n",
              "      <th>winner</th>\n",
              "    </tr>\n",
              "  </thead>\n",
              "  <tbody>\n",
              "    <tr>\n",
              "      <th>0</th>\n",
              "      <td>1995-06-13</td>\n",
              "      <td>Sweden</td>\n",
              "      <td>China PR</td>\n",
              "      <td>China PR</td>\n",
              "    </tr>\n",
              "    <tr>\n",
              "      <th>1</th>\n",
              "      <td>1999-07-10</td>\n",
              "      <td>Brazil</td>\n",
              "      <td>Norway</td>\n",
              "      <td>Brazil</td>\n",
              "    </tr>\n",
              "    <tr>\n",
              "      <th>2</th>\n",
              "      <td>1999-07-10</td>\n",
              "      <td>United States</td>\n",
              "      <td>China PR</td>\n",
              "      <td>United States</td>\n",
              "    </tr>\n",
              "    <tr>\n",
              "      <th>3</th>\n",
              "      <td>2011-07-09</td>\n",
              "      <td>England</td>\n",
              "      <td>France</td>\n",
              "      <td>France</td>\n",
              "    </tr>\n",
              "    <tr>\n",
              "      <th>4</th>\n",
              "      <td>2011-07-10</td>\n",
              "      <td>Brazil</td>\n",
              "      <td>United States</td>\n",
              "      <td>United States</td>\n",
              "    </tr>\n",
              "  </tbody>\n",
              "</table>\n",
              "</div>\n",
              "      <button class=\"colab-df-convert\" onclick=\"convertToInteractive('df-3332551c-9997-4074-9a36-30b5f5cc366e')\"\n",
              "              title=\"Convert this dataframe to an interactive table.\"\n",
              "              style=\"display:none;\">\n",
              "        \n",
              "  <svg xmlns=\"http://www.w3.org/2000/svg\" height=\"24px\"viewBox=\"0 0 24 24\"\n",
              "       width=\"24px\">\n",
              "    <path d=\"M0 0h24v24H0V0z\" fill=\"none\"/>\n",
              "    <path d=\"M18.56 5.44l.94 2.06.94-2.06 2.06-.94-2.06-.94-.94-2.06-.94 2.06-2.06.94zm-11 1L8.5 8.5l.94-2.06 2.06-.94-2.06-.94L8.5 2.5l-.94 2.06-2.06.94zm10 10l.94 2.06.94-2.06 2.06-.94-2.06-.94-.94-2.06-.94 2.06-2.06.94z\"/><path d=\"M17.41 7.96l-1.37-1.37c-.4-.4-.92-.59-1.43-.59-.52 0-1.04.2-1.43.59L10.3 9.45l-7.72 7.72c-.78.78-.78 2.05 0 2.83L4 21.41c.39.39.9.59 1.41.59.51 0 1.02-.2 1.41-.59l7.78-7.78 2.81-2.81c.8-.78.8-2.07 0-2.86zM5.41 20L4 18.59l7.72-7.72 1.47 1.35L5.41 20z\"/>\n",
              "  </svg>\n",
              "      </button>\n",
              "      \n",
              "  <style>\n",
              "    .colab-df-container {\n",
              "      display:flex;\n",
              "      flex-wrap:wrap;\n",
              "      gap: 12px;\n",
              "    }\n",
              "\n",
              "    .colab-df-convert {\n",
              "      background-color: #E8F0FE;\n",
              "      border: none;\n",
              "      border-radius: 50%;\n",
              "      cursor: pointer;\n",
              "      display: none;\n",
              "      fill: #1967D2;\n",
              "      height: 32px;\n",
              "      padding: 0 0 0 0;\n",
              "      width: 32px;\n",
              "    }\n",
              "\n",
              "    .colab-df-convert:hover {\n",
              "      background-color: #E2EBFA;\n",
              "      box-shadow: 0px 1px 2px rgba(60, 64, 67, 0.3), 0px 1px 3px 1px rgba(60, 64, 67, 0.15);\n",
              "      fill: #174EA6;\n",
              "    }\n",
              "\n",
              "    [theme=dark] .colab-df-convert {\n",
              "      background-color: #3B4455;\n",
              "      fill: #D2E3FC;\n",
              "    }\n",
              "\n",
              "    [theme=dark] .colab-df-convert:hover {\n",
              "      background-color: #434B5C;\n",
              "      box-shadow: 0px 1px 3px 1px rgba(0, 0, 0, 0.15);\n",
              "      filter: drop-shadow(0px 1px 2px rgba(0, 0, 0, 0.3));\n",
              "      fill: #FFFFFF;\n",
              "    }\n",
              "  </style>\n",
              "\n",
              "      <script>\n",
              "        const buttonEl =\n",
              "          document.querySelector('#df-3332551c-9997-4074-9a36-30b5f5cc366e button.colab-df-convert');\n",
              "        buttonEl.style.display =\n",
              "          google.colab.kernel.accessAllowed ? 'block' : 'none';\n",
              "\n",
              "        async function convertToInteractive(key) {\n",
              "          const element = document.querySelector('#df-3332551c-9997-4074-9a36-30b5f5cc366e');\n",
              "          const dataTable =\n",
              "            await google.colab.kernel.invokeFunction('convertToInteractive',\n",
              "                                                     [key], {});\n",
              "          if (!dataTable) return;\n",
              "\n",
              "          const docLinkHtml = 'Like what you see? Visit the ' +\n",
              "            '<a target=\"_blank\" href=https://colab.research.google.com/notebooks/data_table.ipynb>data table notebook</a>'\n",
              "            + ' to learn more about interactive tables.';\n",
              "          element.innerHTML = '';\n",
              "          dataTable['output_type'] = 'display_data';\n",
              "          await google.colab.output.renderOutput(dataTable, element);\n",
              "          const docLink = document.createElement('div');\n",
              "          docLink.innerHTML = docLinkHtml;\n",
              "          element.appendChild(docLink);\n",
              "        }\n",
              "      </script>\n",
              "    </div>\n",
              "  </div>\n",
              "  "
            ]
          },
          "metadata": {},
          "execution_count": 3
        }
      ]
    },
    {
      "cell_type": "code",
      "source": [
        "print(f'Dimension of results_csv: {df_results.shape}')\n",
        "print(f'Dimension of shootouts_csv: {df_shootouts.shape}')"
      ],
      "metadata": {
        "colab": {
          "base_uri": "https://localhost:8080/"
        },
        "id": "qvuAxgWj85NK",
        "outputId": "c3ffc1ea-17d0-4a34-ff09-ee5d0e1ecb72"
      },
      "execution_count": 4,
      "outputs": [
        {
          "output_type": "stream",
          "name": "stdout",
          "text": [
            "Dimension of results_csv: (4314, 9)\n",
            "Dimension of shootouts_csv: (9, 4)\n"
          ]
        }
      ]
    },
    {
      "cell_type": "code",
      "source": [
        "df_results.info()"
      ],
      "metadata": {
        "colab": {
          "base_uri": "https://localhost:8080/"
        },
        "id": "UcoOL9BiUdtf",
        "outputId": "2a9eeb55-8785-43a0-e3a0-42d1e367e920"
      },
      "execution_count": 5,
      "outputs": [
        {
          "output_type": "stream",
          "name": "stdout",
          "text": [
            "<class 'pandas.core.frame.DataFrame'>\n",
            "RangeIndex: 4314 entries, 0 to 4313\n",
            "Data columns (total 9 columns):\n",
            " #   Column      Non-Null Count  Dtype \n",
            "---  ------      --------------  ----- \n",
            " 0   date        4314 non-null   object\n",
            " 1   home_team   4314 non-null   object\n",
            " 2   away_team   4314 non-null   object\n",
            " 3   home_score  4314 non-null   int64 \n",
            " 4   away_score  4314 non-null   int64 \n",
            " 5   tournament  4314 non-null   object\n",
            " 6   city        4314 non-null   object\n",
            " 7   country     4314 non-null   object\n",
            " 8   neutral     4314 non-null   bool  \n",
            "dtypes: bool(1), int64(2), object(6)\n",
            "memory usage: 274.0+ KB\n"
          ]
        }
      ]
    },
    {
      "cell_type": "code",
      "source": [
        "df_shootouts.info()"
      ],
      "metadata": {
        "colab": {
          "base_uri": "https://localhost:8080/"
        },
        "id": "tU0RimtrWqV-",
        "outputId": "050f6870-c526-4d11-df6e-f4a9e5ebb7ea"
      },
      "execution_count": 6,
      "outputs": [
        {
          "output_type": "stream",
          "name": "stdout",
          "text": [
            "<class 'pandas.core.frame.DataFrame'>\n",
            "RangeIndex: 9 entries, 0 to 8\n",
            "Data columns (total 4 columns):\n",
            " #   Column     Non-Null Count  Dtype \n",
            "---  ------     --------------  ----- \n",
            " 0   date       9 non-null      object\n",
            " 1   home_team  9 non-null      object\n",
            " 2   away_team  9 non-null      object\n",
            " 3   winner     9 non-null      object\n",
            "dtypes: object(4)\n",
            "memory usage: 416.0+ bytes\n"
          ]
        }
      ]
    },
    {
      "cell_type": "code",
      "source": [
        "# check for null values\n",
        "df_results.isna().values.any()"
      ],
      "metadata": {
        "colab": {
          "base_uri": "https://localhost:8080/"
        },
        "id": "SbFqWBJSoUpx",
        "outputId": "4486b97b-dfdb-426a-c3c8-de66b81173da"
      },
      "execution_count": 7,
      "outputs": [
        {
          "output_type": "execute_result",
          "data": {
            "text/plain": [
              "False"
            ]
          },
          "metadata": {},
          "execution_count": 7
        }
      ]
    },
    {
      "cell_type": "code",
      "source": [
        "df_shootouts.isna().values.any()"
      ],
      "metadata": {
        "colab": {
          "base_uri": "https://localhost:8080/"
        },
        "id": "XIOfdUKmo039",
        "outputId": "d43ecc90-fa12-4a96-cfad-7fe669d445a2"
      },
      "execution_count": 8,
      "outputs": [
        {
          "output_type": "execute_result",
          "data": {
            "text/plain": [
              "False"
            ]
          },
          "metadata": {},
          "execution_count": 8
        }
      ]
    },
    {
      "cell_type": "markdown",
      "source": [
        "No missing data is found in this dataset. We continue by converting the `date` column of both csv files to datetime data type. "
      ],
      "metadata": {
        "id": "oAHlQ-jPZDn6"
      }
    },
    {
      "cell_type": "code",
      "source": [
        "# Convert 'date' column in df_results to datetime\n",
        "df_results['date'] = pd.to_datetime(df_results['date'])\n",
        "df_results['Match_year'] = df_results['date'].dt.year\n",
        "df_results['Match_month'] = df_results['date'].dt.month\n",
        "df_results['Match_day'] = df_results['date'].dt.day_name()\n",
        "df_results.head()"
      ],
      "metadata": {
        "colab": {
          "base_uri": "https://localhost:8080/",
          "height": 206
        },
        "id": "JQBuBvc_d-A-",
        "outputId": "cba537de-8b06-4cce-ddca-63c8f64bc36d"
      },
      "execution_count": 9,
      "outputs": [
        {
          "output_type": "execute_result",
          "data": {
            "text/plain": [
              "        date home_team  away_team  home_score  away_score        tournament  \\\n",
              "0 1969-11-01     Italy     France           1           0              Euro   \n",
              "1 1969-11-01   Denmark    England           4           3              Euro   \n",
              "2 1969-11-02   England     France           2           0              Euro   \n",
              "3 1969-11-02     Italy    Denmark           3           1              Euro   \n",
              "4 1975-08-25  Thailand  Australia           3           2  AFC Championship   \n",
              "\n",
              "        city    country  neutral  Match_year  Match_month Match_day  \n",
              "0     Novara      Italy    False        1969           11  Saturday  \n",
              "1      Aosta      Italy     True        1969           11  Saturday  \n",
              "2      Turin      Italy     True        1969           11    Sunday  \n",
              "3      Turin      Italy    False        1969           11    Sunday  \n",
              "4  Hong Kong  Hong Kong     True        1975            8    Monday  "
            ],
            "text/html": [
              "\n",
              "  <div id=\"df-c266f11f-9d89-4a33-8836-050479f45e8a\">\n",
              "    <div class=\"colab-df-container\">\n",
              "      <div>\n",
              "<style scoped>\n",
              "    .dataframe tbody tr th:only-of-type {\n",
              "        vertical-align: middle;\n",
              "    }\n",
              "\n",
              "    .dataframe tbody tr th {\n",
              "        vertical-align: top;\n",
              "    }\n",
              "\n",
              "    .dataframe thead th {\n",
              "        text-align: right;\n",
              "    }\n",
              "</style>\n",
              "<table border=\"1\" class=\"dataframe\">\n",
              "  <thead>\n",
              "    <tr style=\"text-align: right;\">\n",
              "      <th></th>\n",
              "      <th>date</th>\n",
              "      <th>home_team</th>\n",
              "      <th>away_team</th>\n",
              "      <th>home_score</th>\n",
              "      <th>away_score</th>\n",
              "      <th>tournament</th>\n",
              "      <th>city</th>\n",
              "      <th>country</th>\n",
              "      <th>neutral</th>\n",
              "      <th>Match_year</th>\n",
              "      <th>Match_month</th>\n",
              "      <th>Match_day</th>\n",
              "    </tr>\n",
              "  </thead>\n",
              "  <tbody>\n",
              "    <tr>\n",
              "      <th>0</th>\n",
              "      <td>1969-11-01</td>\n",
              "      <td>Italy</td>\n",
              "      <td>France</td>\n",
              "      <td>1</td>\n",
              "      <td>0</td>\n",
              "      <td>Euro</td>\n",
              "      <td>Novara</td>\n",
              "      <td>Italy</td>\n",
              "      <td>False</td>\n",
              "      <td>1969</td>\n",
              "      <td>11</td>\n",
              "      <td>Saturday</td>\n",
              "    </tr>\n",
              "    <tr>\n",
              "      <th>1</th>\n",
              "      <td>1969-11-01</td>\n",
              "      <td>Denmark</td>\n",
              "      <td>England</td>\n",
              "      <td>4</td>\n",
              "      <td>3</td>\n",
              "      <td>Euro</td>\n",
              "      <td>Aosta</td>\n",
              "      <td>Italy</td>\n",
              "      <td>True</td>\n",
              "      <td>1969</td>\n",
              "      <td>11</td>\n",
              "      <td>Saturday</td>\n",
              "    </tr>\n",
              "    <tr>\n",
              "      <th>2</th>\n",
              "      <td>1969-11-02</td>\n",
              "      <td>England</td>\n",
              "      <td>France</td>\n",
              "      <td>2</td>\n",
              "      <td>0</td>\n",
              "      <td>Euro</td>\n",
              "      <td>Turin</td>\n",
              "      <td>Italy</td>\n",
              "      <td>True</td>\n",
              "      <td>1969</td>\n",
              "      <td>11</td>\n",
              "      <td>Sunday</td>\n",
              "    </tr>\n",
              "    <tr>\n",
              "      <th>3</th>\n",
              "      <td>1969-11-02</td>\n",
              "      <td>Italy</td>\n",
              "      <td>Denmark</td>\n",
              "      <td>3</td>\n",
              "      <td>1</td>\n",
              "      <td>Euro</td>\n",
              "      <td>Turin</td>\n",
              "      <td>Italy</td>\n",
              "      <td>False</td>\n",
              "      <td>1969</td>\n",
              "      <td>11</td>\n",
              "      <td>Sunday</td>\n",
              "    </tr>\n",
              "    <tr>\n",
              "      <th>4</th>\n",
              "      <td>1975-08-25</td>\n",
              "      <td>Thailand</td>\n",
              "      <td>Australia</td>\n",
              "      <td>3</td>\n",
              "      <td>2</td>\n",
              "      <td>AFC Championship</td>\n",
              "      <td>Hong Kong</td>\n",
              "      <td>Hong Kong</td>\n",
              "      <td>True</td>\n",
              "      <td>1975</td>\n",
              "      <td>8</td>\n",
              "      <td>Monday</td>\n",
              "    </tr>\n",
              "  </tbody>\n",
              "</table>\n",
              "</div>\n",
              "      <button class=\"colab-df-convert\" onclick=\"convertToInteractive('df-c266f11f-9d89-4a33-8836-050479f45e8a')\"\n",
              "              title=\"Convert this dataframe to an interactive table.\"\n",
              "              style=\"display:none;\">\n",
              "        \n",
              "  <svg xmlns=\"http://www.w3.org/2000/svg\" height=\"24px\"viewBox=\"0 0 24 24\"\n",
              "       width=\"24px\">\n",
              "    <path d=\"M0 0h24v24H0V0z\" fill=\"none\"/>\n",
              "    <path d=\"M18.56 5.44l.94 2.06.94-2.06 2.06-.94-2.06-.94-.94-2.06-.94 2.06-2.06.94zm-11 1L8.5 8.5l.94-2.06 2.06-.94-2.06-.94L8.5 2.5l-.94 2.06-2.06.94zm10 10l.94 2.06.94-2.06 2.06-.94-2.06-.94-.94-2.06-.94 2.06-2.06.94z\"/><path d=\"M17.41 7.96l-1.37-1.37c-.4-.4-.92-.59-1.43-.59-.52 0-1.04.2-1.43.59L10.3 9.45l-7.72 7.72c-.78.78-.78 2.05 0 2.83L4 21.41c.39.39.9.59 1.41.59.51 0 1.02-.2 1.41-.59l7.78-7.78 2.81-2.81c.8-.78.8-2.07 0-2.86zM5.41 20L4 18.59l7.72-7.72 1.47 1.35L5.41 20z\"/>\n",
              "  </svg>\n",
              "      </button>\n",
              "      \n",
              "  <style>\n",
              "    .colab-df-container {\n",
              "      display:flex;\n",
              "      flex-wrap:wrap;\n",
              "      gap: 12px;\n",
              "    }\n",
              "\n",
              "    .colab-df-convert {\n",
              "      background-color: #E8F0FE;\n",
              "      border: none;\n",
              "      border-radius: 50%;\n",
              "      cursor: pointer;\n",
              "      display: none;\n",
              "      fill: #1967D2;\n",
              "      height: 32px;\n",
              "      padding: 0 0 0 0;\n",
              "      width: 32px;\n",
              "    }\n",
              "\n",
              "    .colab-df-convert:hover {\n",
              "      background-color: #E2EBFA;\n",
              "      box-shadow: 0px 1px 2px rgba(60, 64, 67, 0.3), 0px 1px 3px 1px rgba(60, 64, 67, 0.15);\n",
              "      fill: #174EA6;\n",
              "    }\n",
              "\n",
              "    [theme=dark] .colab-df-convert {\n",
              "      background-color: #3B4455;\n",
              "      fill: #D2E3FC;\n",
              "    }\n",
              "\n",
              "    [theme=dark] .colab-df-convert:hover {\n",
              "      background-color: #434B5C;\n",
              "      box-shadow: 0px 1px 3px 1px rgba(0, 0, 0, 0.15);\n",
              "      filter: drop-shadow(0px 1px 2px rgba(0, 0, 0, 0.3));\n",
              "      fill: #FFFFFF;\n",
              "    }\n",
              "  </style>\n",
              "\n",
              "      <script>\n",
              "        const buttonEl =\n",
              "          document.querySelector('#df-c266f11f-9d89-4a33-8836-050479f45e8a button.colab-df-convert');\n",
              "        buttonEl.style.display =\n",
              "          google.colab.kernel.accessAllowed ? 'block' : 'none';\n",
              "\n",
              "        async function convertToInteractive(key) {\n",
              "          const element = document.querySelector('#df-c266f11f-9d89-4a33-8836-050479f45e8a');\n",
              "          const dataTable =\n",
              "            await google.colab.kernel.invokeFunction('convertToInteractive',\n",
              "                                                     [key], {});\n",
              "          if (!dataTable) return;\n",
              "\n",
              "          const docLinkHtml = 'Like what you see? Visit the ' +\n",
              "            '<a target=\"_blank\" href=https://colab.research.google.com/notebooks/data_table.ipynb>data table notebook</a>'\n",
              "            + ' to learn more about interactive tables.';\n",
              "          element.innerHTML = '';\n",
              "          dataTable['output_type'] = 'display_data';\n",
              "          await google.colab.output.renderOutput(dataTable, element);\n",
              "          const docLink = document.createElement('div');\n",
              "          docLink.innerHTML = docLinkHtml;\n",
              "          element.appendChild(docLink);\n",
              "        }\n",
              "      </script>\n",
              "    </div>\n",
              "  </div>\n",
              "  "
            ]
          },
          "metadata": {},
          "execution_count": 9
        }
      ]
    },
    {
      "cell_type": "code",
      "source": [
        "# Convert 'date' column in df_shootouts to datetime\n",
        "df_shootouts['date'] = pd.to_datetime(df_shootouts['date'])\n",
        "df_shootouts['Match_year'] = df_shootouts['date'].dt.year\n",
        "df_shootouts['Match_month'] = df_shootouts['date'].dt.month\n",
        "df_shootouts['Match_day'] = df_shootouts['date'].dt.day_name()\n",
        "df_shootouts.head()"
      ],
      "metadata": {
        "colab": {
          "base_uri": "https://localhost:8080/",
          "height": 206
        },
        "id": "hEQCJh1RfRXd",
        "outputId": "4ea8d2bc-a857-4adb-e4aa-1c6e00437f8e"
      },
      "execution_count": 10,
      "outputs": [
        {
          "output_type": "execute_result",
          "data": {
            "text/plain": [
              "        date      home_team      away_team         winner  Match_year  \\\n",
              "0 1995-06-13         Sweden       China PR       China PR        1995   \n",
              "1 1999-07-10         Brazil         Norway         Brazil        1999   \n",
              "2 1999-07-10  United States       China PR  United States        1999   \n",
              "3 2011-07-09        England         France         France        2011   \n",
              "4 2011-07-10         Brazil  United States  United States        2011   \n",
              "\n",
              "   Match_month Match_day  \n",
              "0            6   Tuesday  \n",
              "1            7  Saturday  \n",
              "2            7  Saturday  \n",
              "3            7  Saturday  \n",
              "4            7    Sunday  "
            ],
            "text/html": [
              "\n",
              "  <div id=\"df-bcdea01f-9d1a-42d6-97d0-aa558507c0ff\">\n",
              "    <div class=\"colab-df-container\">\n",
              "      <div>\n",
              "<style scoped>\n",
              "    .dataframe tbody tr th:only-of-type {\n",
              "        vertical-align: middle;\n",
              "    }\n",
              "\n",
              "    .dataframe tbody tr th {\n",
              "        vertical-align: top;\n",
              "    }\n",
              "\n",
              "    .dataframe thead th {\n",
              "        text-align: right;\n",
              "    }\n",
              "</style>\n",
              "<table border=\"1\" class=\"dataframe\">\n",
              "  <thead>\n",
              "    <tr style=\"text-align: right;\">\n",
              "      <th></th>\n",
              "      <th>date</th>\n",
              "      <th>home_team</th>\n",
              "      <th>away_team</th>\n",
              "      <th>winner</th>\n",
              "      <th>Match_year</th>\n",
              "      <th>Match_month</th>\n",
              "      <th>Match_day</th>\n",
              "    </tr>\n",
              "  </thead>\n",
              "  <tbody>\n",
              "    <tr>\n",
              "      <th>0</th>\n",
              "      <td>1995-06-13</td>\n",
              "      <td>Sweden</td>\n",
              "      <td>China PR</td>\n",
              "      <td>China PR</td>\n",
              "      <td>1995</td>\n",
              "      <td>6</td>\n",
              "      <td>Tuesday</td>\n",
              "    </tr>\n",
              "    <tr>\n",
              "      <th>1</th>\n",
              "      <td>1999-07-10</td>\n",
              "      <td>Brazil</td>\n",
              "      <td>Norway</td>\n",
              "      <td>Brazil</td>\n",
              "      <td>1999</td>\n",
              "      <td>7</td>\n",
              "      <td>Saturday</td>\n",
              "    </tr>\n",
              "    <tr>\n",
              "      <th>2</th>\n",
              "      <td>1999-07-10</td>\n",
              "      <td>United States</td>\n",
              "      <td>China PR</td>\n",
              "      <td>United States</td>\n",
              "      <td>1999</td>\n",
              "      <td>7</td>\n",
              "      <td>Saturday</td>\n",
              "    </tr>\n",
              "    <tr>\n",
              "      <th>3</th>\n",
              "      <td>2011-07-09</td>\n",
              "      <td>England</td>\n",
              "      <td>France</td>\n",
              "      <td>France</td>\n",
              "      <td>2011</td>\n",
              "      <td>7</td>\n",
              "      <td>Saturday</td>\n",
              "    </tr>\n",
              "    <tr>\n",
              "      <th>4</th>\n",
              "      <td>2011-07-10</td>\n",
              "      <td>Brazil</td>\n",
              "      <td>United States</td>\n",
              "      <td>United States</td>\n",
              "      <td>2011</td>\n",
              "      <td>7</td>\n",
              "      <td>Sunday</td>\n",
              "    </tr>\n",
              "  </tbody>\n",
              "</table>\n",
              "</div>\n",
              "      <button class=\"colab-df-convert\" onclick=\"convertToInteractive('df-bcdea01f-9d1a-42d6-97d0-aa558507c0ff')\"\n",
              "              title=\"Convert this dataframe to an interactive table.\"\n",
              "              style=\"display:none;\">\n",
              "        \n",
              "  <svg xmlns=\"http://www.w3.org/2000/svg\" height=\"24px\"viewBox=\"0 0 24 24\"\n",
              "       width=\"24px\">\n",
              "    <path d=\"M0 0h24v24H0V0z\" fill=\"none\"/>\n",
              "    <path d=\"M18.56 5.44l.94 2.06.94-2.06 2.06-.94-2.06-.94-.94-2.06-.94 2.06-2.06.94zm-11 1L8.5 8.5l.94-2.06 2.06-.94-2.06-.94L8.5 2.5l-.94 2.06-2.06.94zm10 10l.94 2.06.94-2.06 2.06-.94-2.06-.94-.94-2.06-.94 2.06-2.06.94z\"/><path d=\"M17.41 7.96l-1.37-1.37c-.4-.4-.92-.59-1.43-.59-.52 0-1.04.2-1.43.59L10.3 9.45l-7.72 7.72c-.78.78-.78 2.05 0 2.83L4 21.41c.39.39.9.59 1.41.59.51 0 1.02-.2 1.41-.59l7.78-7.78 2.81-2.81c.8-.78.8-2.07 0-2.86zM5.41 20L4 18.59l7.72-7.72 1.47 1.35L5.41 20z\"/>\n",
              "  </svg>\n",
              "      </button>\n",
              "      \n",
              "  <style>\n",
              "    .colab-df-container {\n",
              "      display:flex;\n",
              "      flex-wrap:wrap;\n",
              "      gap: 12px;\n",
              "    }\n",
              "\n",
              "    .colab-df-convert {\n",
              "      background-color: #E8F0FE;\n",
              "      border: none;\n",
              "      border-radius: 50%;\n",
              "      cursor: pointer;\n",
              "      display: none;\n",
              "      fill: #1967D2;\n",
              "      height: 32px;\n",
              "      padding: 0 0 0 0;\n",
              "      width: 32px;\n",
              "    }\n",
              "\n",
              "    .colab-df-convert:hover {\n",
              "      background-color: #E2EBFA;\n",
              "      box-shadow: 0px 1px 2px rgba(60, 64, 67, 0.3), 0px 1px 3px 1px rgba(60, 64, 67, 0.15);\n",
              "      fill: #174EA6;\n",
              "    }\n",
              "\n",
              "    [theme=dark] .colab-df-convert {\n",
              "      background-color: #3B4455;\n",
              "      fill: #D2E3FC;\n",
              "    }\n",
              "\n",
              "    [theme=dark] .colab-df-convert:hover {\n",
              "      background-color: #434B5C;\n",
              "      box-shadow: 0px 1px 3px 1px rgba(0, 0, 0, 0.15);\n",
              "      filter: drop-shadow(0px 1px 2px rgba(0, 0, 0, 0.3));\n",
              "      fill: #FFFFFF;\n",
              "    }\n",
              "  </style>\n",
              "\n",
              "      <script>\n",
              "        const buttonEl =\n",
              "          document.querySelector('#df-bcdea01f-9d1a-42d6-97d0-aa558507c0ff button.colab-df-convert');\n",
              "        buttonEl.style.display =\n",
              "          google.colab.kernel.accessAllowed ? 'block' : 'none';\n",
              "\n",
              "        async function convertToInteractive(key) {\n",
              "          const element = document.querySelector('#df-bcdea01f-9d1a-42d6-97d0-aa558507c0ff');\n",
              "          const dataTable =\n",
              "            await google.colab.kernel.invokeFunction('convertToInteractive',\n",
              "                                                     [key], {});\n",
              "          if (!dataTable) return;\n",
              "\n",
              "          const docLinkHtml = 'Like what you see? Visit the ' +\n",
              "            '<a target=\"_blank\" href=https://colab.research.google.com/notebooks/data_table.ipynb>data table notebook</a>'\n",
              "            + ' to learn more about interactive tables.';\n",
              "          element.innerHTML = '';\n",
              "          dataTable['output_type'] = 'display_data';\n",
              "          await google.colab.output.renderOutput(dataTable, element);\n",
              "          const docLink = document.createElement('div');\n",
              "          docLink.innerHTML = docLinkHtml;\n",
              "          element.appendChild(docLink);\n",
              "        }\n",
              "      </script>\n",
              "    </div>\n",
              "  </div>\n",
              "  "
            ]
          },
          "metadata": {},
          "execution_count": 10
        }
      ]
    },
    {
      "cell_type": "code",
      "source": [
        "# Descriptive statistics\n",
        "df_results.describe(include='all', datetime_is_numeric=True)"
      ],
      "metadata": {
        "colab": {
          "base_uri": "https://localhost:8080/",
          "height": 473
        },
        "id": "oiSpzSkLmbyO",
        "outputId": "c2c1f490-e7c0-4956-fa38-83fc2b89ed11"
      },
      "execution_count": 11,
      "outputs": [
        {
          "output_type": "execute_result",
          "data": {
            "text/plain": [
              "                                 date      home_team away_team   home_score  \\\n",
              "count                            4314           4314      4314  4314.000000   \n",
              "unique                            NaN            188       184          NaN   \n",
              "top                               NaN  United States   Denmark          NaN   \n",
              "freq                              NaN            262       145          NaN   \n",
              "mean    2006-03-26 13:02:05.173852544            NaN       NaN     2.324525   \n",
              "min               1969-11-01 00:00:00            NaN       NaN     0.000000   \n",
              "25%               1999-07-05 12:00:00            NaN       NaN     0.000000   \n",
              "50%               2007-09-17 00:00:00            NaN       NaN     2.000000   \n",
              "75%               2015-03-06 00:00:00            NaN       NaN     3.000000   \n",
              "max               2022-02-23 00:00:00            NaN       NaN    24.000000   \n",
              "std                               NaN            NaN       NaN     2.784961   \n",
              "\n",
              "         away_score               tournament   city   country neutral  \\\n",
              "count   4314.000000                     4314   4314      4314    4314   \n",
              "unique          NaN                       27    994       144       2   \n",
              "top             NaN  UEFA Euro qualification  Lagos  Portugal   False   \n",
              "freq            NaN                     1241     88       587    2455   \n",
              "mean       1.426750                      NaN    NaN       NaN     NaN   \n",
              "min        0.000000                      NaN    NaN       NaN     NaN   \n",
              "25%        0.000000                      NaN    NaN       NaN     NaN   \n",
              "50%        1.000000                      NaN    NaN       NaN     NaN   \n",
              "75%        2.000000                      NaN    NaN       NaN     NaN   \n",
              "max       24.000000                      NaN    NaN       NaN     NaN   \n",
              "std        1.996946                      NaN    NaN       NaN     NaN   \n",
              "\n",
              "         Match_year  Match_month Match_day  \n",
              "count   4314.000000  4314.000000      4314  \n",
              "unique          NaN          NaN         7  \n",
              "top             NaN          NaN  Saturday  \n",
              "freq            NaN          NaN       917  \n",
              "mean    2005.733426     6.538479       NaN  \n",
              "min     1969.000000     1.000000       NaN  \n",
              "25%     1999.000000     4.000000       NaN  \n",
              "50%     2007.000000     6.000000       NaN  \n",
              "75%     2015.000000     9.000000       NaN  \n",
              "max     2022.000000    12.000000       NaN  \n",
              "std       10.141812     3.146847       NaN  "
            ],
            "text/html": [
              "\n",
              "  <div id=\"df-93bb830c-cd83-4d4a-96a5-95c6839a4821\">\n",
              "    <div class=\"colab-df-container\">\n",
              "      <div>\n",
              "<style scoped>\n",
              "    .dataframe tbody tr th:only-of-type {\n",
              "        vertical-align: middle;\n",
              "    }\n",
              "\n",
              "    .dataframe tbody tr th {\n",
              "        vertical-align: top;\n",
              "    }\n",
              "\n",
              "    .dataframe thead th {\n",
              "        text-align: right;\n",
              "    }\n",
              "</style>\n",
              "<table border=\"1\" class=\"dataframe\">\n",
              "  <thead>\n",
              "    <tr style=\"text-align: right;\">\n",
              "      <th></th>\n",
              "      <th>date</th>\n",
              "      <th>home_team</th>\n",
              "      <th>away_team</th>\n",
              "      <th>home_score</th>\n",
              "      <th>away_score</th>\n",
              "      <th>tournament</th>\n",
              "      <th>city</th>\n",
              "      <th>country</th>\n",
              "      <th>neutral</th>\n",
              "      <th>Match_year</th>\n",
              "      <th>Match_month</th>\n",
              "      <th>Match_day</th>\n",
              "    </tr>\n",
              "  </thead>\n",
              "  <tbody>\n",
              "    <tr>\n",
              "      <th>count</th>\n",
              "      <td>4314</td>\n",
              "      <td>4314</td>\n",
              "      <td>4314</td>\n",
              "      <td>4314.000000</td>\n",
              "      <td>4314.000000</td>\n",
              "      <td>4314</td>\n",
              "      <td>4314</td>\n",
              "      <td>4314</td>\n",
              "      <td>4314</td>\n",
              "      <td>4314.000000</td>\n",
              "      <td>4314.000000</td>\n",
              "      <td>4314</td>\n",
              "    </tr>\n",
              "    <tr>\n",
              "      <th>unique</th>\n",
              "      <td>NaN</td>\n",
              "      <td>188</td>\n",
              "      <td>184</td>\n",
              "      <td>NaN</td>\n",
              "      <td>NaN</td>\n",
              "      <td>27</td>\n",
              "      <td>994</td>\n",
              "      <td>144</td>\n",
              "      <td>2</td>\n",
              "      <td>NaN</td>\n",
              "      <td>NaN</td>\n",
              "      <td>7</td>\n",
              "    </tr>\n",
              "    <tr>\n",
              "      <th>top</th>\n",
              "      <td>NaN</td>\n",
              "      <td>United States</td>\n",
              "      <td>Denmark</td>\n",
              "      <td>NaN</td>\n",
              "      <td>NaN</td>\n",
              "      <td>UEFA Euro qualification</td>\n",
              "      <td>Lagos</td>\n",
              "      <td>Portugal</td>\n",
              "      <td>False</td>\n",
              "      <td>NaN</td>\n",
              "      <td>NaN</td>\n",
              "      <td>Saturday</td>\n",
              "    </tr>\n",
              "    <tr>\n",
              "      <th>freq</th>\n",
              "      <td>NaN</td>\n",
              "      <td>262</td>\n",
              "      <td>145</td>\n",
              "      <td>NaN</td>\n",
              "      <td>NaN</td>\n",
              "      <td>1241</td>\n",
              "      <td>88</td>\n",
              "      <td>587</td>\n",
              "      <td>2455</td>\n",
              "      <td>NaN</td>\n",
              "      <td>NaN</td>\n",
              "      <td>917</td>\n",
              "    </tr>\n",
              "    <tr>\n",
              "      <th>mean</th>\n",
              "      <td>2006-03-26 13:02:05.173852544</td>\n",
              "      <td>NaN</td>\n",
              "      <td>NaN</td>\n",
              "      <td>2.324525</td>\n",
              "      <td>1.426750</td>\n",
              "      <td>NaN</td>\n",
              "      <td>NaN</td>\n",
              "      <td>NaN</td>\n",
              "      <td>NaN</td>\n",
              "      <td>2005.733426</td>\n",
              "      <td>6.538479</td>\n",
              "      <td>NaN</td>\n",
              "    </tr>\n",
              "    <tr>\n",
              "      <th>min</th>\n",
              "      <td>1969-11-01 00:00:00</td>\n",
              "      <td>NaN</td>\n",
              "      <td>NaN</td>\n",
              "      <td>0.000000</td>\n",
              "      <td>0.000000</td>\n",
              "      <td>NaN</td>\n",
              "      <td>NaN</td>\n",
              "      <td>NaN</td>\n",
              "      <td>NaN</td>\n",
              "      <td>1969.000000</td>\n",
              "      <td>1.000000</td>\n",
              "      <td>NaN</td>\n",
              "    </tr>\n",
              "    <tr>\n",
              "      <th>25%</th>\n",
              "      <td>1999-07-05 12:00:00</td>\n",
              "      <td>NaN</td>\n",
              "      <td>NaN</td>\n",
              "      <td>0.000000</td>\n",
              "      <td>0.000000</td>\n",
              "      <td>NaN</td>\n",
              "      <td>NaN</td>\n",
              "      <td>NaN</td>\n",
              "      <td>NaN</td>\n",
              "      <td>1999.000000</td>\n",
              "      <td>4.000000</td>\n",
              "      <td>NaN</td>\n",
              "    </tr>\n",
              "    <tr>\n",
              "      <th>50%</th>\n",
              "      <td>2007-09-17 00:00:00</td>\n",
              "      <td>NaN</td>\n",
              "      <td>NaN</td>\n",
              "      <td>2.000000</td>\n",
              "      <td>1.000000</td>\n",
              "      <td>NaN</td>\n",
              "      <td>NaN</td>\n",
              "      <td>NaN</td>\n",
              "      <td>NaN</td>\n",
              "      <td>2007.000000</td>\n",
              "      <td>6.000000</td>\n",
              "      <td>NaN</td>\n",
              "    </tr>\n",
              "    <tr>\n",
              "      <th>75%</th>\n",
              "      <td>2015-03-06 00:00:00</td>\n",
              "      <td>NaN</td>\n",
              "      <td>NaN</td>\n",
              "      <td>3.000000</td>\n",
              "      <td>2.000000</td>\n",
              "      <td>NaN</td>\n",
              "      <td>NaN</td>\n",
              "      <td>NaN</td>\n",
              "      <td>NaN</td>\n",
              "      <td>2015.000000</td>\n",
              "      <td>9.000000</td>\n",
              "      <td>NaN</td>\n",
              "    </tr>\n",
              "    <tr>\n",
              "      <th>max</th>\n",
              "      <td>2022-02-23 00:00:00</td>\n",
              "      <td>NaN</td>\n",
              "      <td>NaN</td>\n",
              "      <td>24.000000</td>\n",
              "      <td>24.000000</td>\n",
              "      <td>NaN</td>\n",
              "      <td>NaN</td>\n",
              "      <td>NaN</td>\n",
              "      <td>NaN</td>\n",
              "      <td>2022.000000</td>\n",
              "      <td>12.000000</td>\n",
              "      <td>NaN</td>\n",
              "    </tr>\n",
              "    <tr>\n",
              "      <th>std</th>\n",
              "      <td>NaN</td>\n",
              "      <td>NaN</td>\n",
              "      <td>NaN</td>\n",
              "      <td>2.784961</td>\n",
              "      <td>1.996946</td>\n",
              "      <td>NaN</td>\n",
              "      <td>NaN</td>\n",
              "      <td>NaN</td>\n",
              "      <td>NaN</td>\n",
              "      <td>10.141812</td>\n",
              "      <td>3.146847</td>\n",
              "      <td>NaN</td>\n",
              "    </tr>\n",
              "  </tbody>\n",
              "</table>\n",
              "</div>\n",
              "      <button class=\"colab-df-convert\" onclick=\"convertToInteractive('df-93bb830c-cd83-4d4a-96a5-95c6839a4821')\"\n",
              "              title=\"Convert this dataframe to an interactive table.\"\n",
              "              style=\"display:none;\">\n",
              "        \n",
              "  <svg xmlns=\"http://www.w3.org/2000/svg\" height=\"24px\"viewBox=\"0 0 24 24\"\n",
              "       width=\"24px\">\n",
              "    <path d=\"M0 0h24v24H0V0z\" fill=\"none\"/>\n",
              "    <path d=\"M18.56 5.44l.94 2.06.94-2.06 2.06-.94-2.06-.94-.94-2.06-.94 2.06-2.06.94zm-11 1L8.5 8.5l.94-2.06 2.06-.94-2.06-.94L8.5 2.5l-.94 2.06-2.06.94zm10 10l.94 2.06.94-2.06 2.06-.94-2.06-.94-.94-2.06-.94 2.06-2.06.94z\"/><path d=\"M17.41 7.96l-1.37-1.37c-.4-.4-.92-.59-1.43-.59-.52 0-1.04.2-1.43.59L10.3 9.45l-7.72 7.72c-.78.78-.78 2.05 0 2.83L4 21.41c.39.39.9.59 1.41.59.51 0 1.02-.2 1.41-.59l7.78-7.78 2.81-2.81c.8-.78.8-2.07 0-2.86zM5.41 20L4 18.59l7.72-7.72 1.47 1.35L5.41 20z\"/>\n",
              "  </svg>\n",
              "      </button>\n",
              "      \n",
              "  <style>\n",
              "    .colab-df-container {\n",
              "      display:flex;\n",
              "      flex-wrap:wrap;\n",
              "      gap: 12px;\n",
              "    }\n",
              "\n",
              "    .colab-df-convert {\n",
              "      background-color: #E8F0FE;\n",
              "      border: none;\n",
              "      border-radius: 50%;\n",
              "      cursor: pointer;\n",
              "      display: none;\n",
              "      fill: #1967D2;\n",
              "      height: 32px;\n",
              "      padding: 0 0 0 0;\n",
              "      width: 32px;\n",
              "    }\n",
              "\n",
              "    .colab-df-convert:hover {\n",
              "      background-color: #E2EBFA;\n",
              "      box-shadow: 0px 1px 2px rgba(60, 64, 67, 0.3), 0px 1px 3px 1px rgba(60, 64, 67, 0.15);\n",
              "      fill: #174EA6;\n",
              "    }\n",
              "\n",
              "    [theme=dark] .colab-df-convert {\n",
              "      background-color: #3B4455;\n",
              "      fill: #D2E3FC;\n",
              "    }\n",
              "\n",
              "    [theme=dark] .colab-df-convert:hover {\n",
              "      background-color: #434B5C;\n",
              "      box-shadow: 0px 1px 3px 1px rgba(0, 0, 0, 0.15);\n",
              "      filter: drop-shadow(0px 1px 2px rgba(0, 0, 0, 0.3));\n",
              "      fill: #FFFFFF;\n",
              "    }\n",
              "  </style>\n",
              "\n",
              "      <script>\n",
              "        const buttonEl =\n",
              "          document.querySelector('#df-93bb830c-cd83-4d4a-96a5-95c6839a4821 button.colab-df-convert');\n",
              "        buttonEl.style.display =\n",
              "          google.colab.kernel.accessAllowed ? 'block' : 'none';\n",
              "\n",
              "        async function convertToInteractive(key) {\n",
              "          const element = document.querySelector('#df-93bb830c-cd83-4d4a-96a5-95c6839a4821');\n",
              "          const dataTable =\n",
              "            await google.colab.kernel.invokeFunction('convertToInteractive',\n",
              "                                                     [key], {});\n",
              "          if (!dataTable) return;\n",
              "\n",
              "          const docLinkHtml = 'Like what you see? Visit the ' +\n",
              "            '<a target=\"_blank\" href=https://colab.research.google.com/notebooks/data_table.ipynb>data table notebook</a>'\n",
              "            + ' to learn more about interactive tables.';\n",
              "          element.innerHTML = '';\n",
              "          dataTable['output_type'] = 'display_data';\n",
              "          await google.colab.output.renderOutput(dataTable, element);\n",
              "          const docLink = document.createElement('div');\n",
              "          docLink.innerHTML = docLinkHtml;\n",
              "          element.appendChild(docLink);\n",
              "        }\n",
              "      </script>\n",
              "    </div>\n",
              "  </div>\n",
              "  "
            ]
          },
          "metadata": {},
          "execution_count": 11
        }
      ]
    },
    {
      "cell_type": "code",
      "source": [
        "df_shootouts.describe(include='all', datetime_is_numeric=True)"
      ],
      "metadata": {
        "colab": {
          "base_uri": "https://localhost:8080/",
          "height": 394
        },
        "id": "M08IOKSzm7BI",
        "outputId": "1280d85a-6600-4ef7-8b8e-319c1d4d9620"
      },
      "execution_count": 12,
      "outputs": [
        {
          "output_type": "execute_result",
          "data": {
            "text/plain": [
              "                       date home_team away_team         winner   Match_year  \\\n",
              "count                     9         9         9              9     9.000000   \n",
              "unique                  NaN         7         6              8          NaN   \n",
              "top                     NaN    Sweden  China PR  United States          NaN   \n",
              "freq                    NaN         2         2              2          NaN   \n",
              "mean    2009-07-29 00:00:00       NaN       NaN            NaN  2009.111111   \n",
              "min     1995-06-13 00:00:00       NaN       NaN            NaN  1995.000000   \n",
              "25%     1999-07-10 00:00:00       NaN       NaN            NaN  1999.000000   \n",
              "50%     2011-07-10 00:00:00       NaN       NaN            NaN  2011.000000   \n",
              "75%     2015-06-26 00:00:00       NaN       NaN            NaN  2015.000000   \n",
              "max     2022-02-23 00:00:00       NaN       NaN            NaN  2022.000000   \n",
              "std                     NaN       NaN       NaN            NaN     9.439868   \n",
              "\n",
              "        Match_month Match_day  \n",
              "count      9.000000         9  \n",
              "unique          NaN         5  \n",
              "top             NaN  Saturday  \n",
              "freq            NaN         4  \n",
              "mean       6.111111       NaN  \n",
              "min        2.000000       NaN  \n",
              "25%        6.000000       NaN  \n",
              "50%        7.000000       NaN  \n",
              "75%        7.000000       NaN  \n",
              "max        7.000000       NaN  \n",
              "std        1.615893       NaN  "
            ],
            "text/html": [
              "\n",
              "  <div id=\"df-aa922610-45d2-45f7-b96d-a3808e3befe1\">\n",
              "    <div class=\"colab-df-container\">\n",
              "      <div>\n",
              "<style scoped>\n",
              "    .dataframe tbody tr th:only-of-type {\n",
              "        vertical-align: middle;\n",
              "    }\n",
              "\n",
              "    .dataframe tbody tr th {\n",
              "        vertical-align: top;\n",
              "    }\n",
              "\n",
              "    .dataframe thead th {\n",
              "        text-align: right;\n",
              "    }\n",
              "</style>\n",
              "<table border=\"1\" class=\"dataframe\">\n",
              "  <thead>\n",
              "    <tr style=\"text-align: right;\">\n",
              "      <th></th>\n",
              "      <th>date</th>\n",
              "      <th>home_team</th>\n",
              "      <th>away_team</th>\n",
              "      <th>winner</th>\n",
              "      <th>Match_year</th>\n",
              "      <th>Match_month</th>\n",
              "      <th>Match_day</th>\n",
              "    </tr>\n",
              "  </thead>\n",
              "  <tbody>\n",
              "    <tr>\n",
              "      <th>count</th>\n",
              "      <td>9</td>\n",
              "      <td>9</td>\n",
              "      <td>9</td>\n",
              "      <td>9</td>\n",
              "      <td>9.000000</td>\n",
              "      <td>9.000000</td>\n",
              "      <td>9</td>\n",
              "    </tr>\n",
              "    <tr>\n",
              "      <th>unique</th>\n",
              "      <td>NaN</td>\n",
              "      <td>7</td>\n",
              "      <td>6</td>\n",
              "      <td>8</td>\n",
              "      <td>NaN</td>\n",
              "      <td>NaN</td>\n",
              "      <td>5</td>\n",
              "    </tr>\n",
              "    <tr>\n",
              "      <th>top</th>\n",
              "      <td>NaN</td>\n",
              "      <td>Sweden</td>\n",
              "      <td>China PR</td>\n",
              "      <td>United States</td>\n",
              "      <td>NaN</td>\n",
              "      <td>NaN</td>\n",
              "      <td>Saturday</td>\n",
              "    </tr>\n",
              "    <tr>\n",
              "      <th>freq</th>\n",
              "      <td>NaN</td>\n",
              "      <td>2</td>\n",
              "      <td>2</td>\n",
              "      <td>2</td>\n",
              "      <td>NaN</td>\n",
              "      <td>NaN</td>\n",
              "      <td>4</td>\n",
              "    </tr>\n",
              "    <tr>\n",
              "      <th>mean</th>\n",
              "      <td>2009-07-29 00:00:00</td>\n",
              "      <td>NaN</td>\n",
              "      <td>NaN</td>\n",
              "      <td>NaN</td>\n",
              "      <td>2009.111111</td>\n",
              "      <td>6.111111</td>\n",
              "      <td>NaN</td>\n",
              "    </tr>\n",
              "    <tr>\n",
              "      <th>min</th>\n",
              "      <td>1995-06-13 00:00:00</td>\n",
              "      <td>NaN</td>\n",
              "      <td>NaN</td>\n",
              "      <td>NaN</td>\n",
              "      <td>1995.000000</td>\n",
              "      <td>2.000000</td>\n",
              "      <td>NaN</td>\n",
              "    </tr>\n",
              "    <tr>\n",
              "      <th>25%</th>\n",
              "      <td>1999-07-10 00:00:00</td>\n",
              "      <td>NaN</td>\n",
              "      <td>NaN</td>\n",
              "      <td>NaN</td>\n",
              "      <td>1999.000000</td>\n",
              "      <td>6.000000</td>\n",
              "      <td>NaN</td>\n",
              "    </tr>\n",
              "    <tr>\n",
              "      <th>50%</th>\n",
              "      <td>2011-07-10 00:00:00</td>\n",
              "      <td>NaN</td>\n",
              "      <td>NaN</td>\n",
              "      <td>NaN</td>\n",
              "      <td>2011.000000</td>\n",
              "      <td>7.000000</td>\n",
              "      <td>NaN</td>\n",
              "    </tr>\n",
              "    <tr>\n",
              "      <th>75%</th>\n",
              "      <td>2015-06-26 00:00:00</td>\n",
              "      <td>NaN</td>\n",
              "      <td>NaN</td>\n",
              "      <td>NaN</td>\n",
              "      <td>2015.000000</td>\n",
              "      <td>7.000000</td>\n",
              "      <td>NaN</td>\n",
              "    </tr>\n",
              "    <tr>\n",
              "      <th>max</th>\n",
              "      <td>2022-02-23 00:00:00</td>\n",
              "      <td>NaN</td>\n",
              "      <td>NaN</td>\n",
              "      <td>NaN</td>\n",
              "      <td>2022.000000</td>\n",
              "      <td>7.000000</td>\n",
              "      <td>NaN</td>\n",
              "    </tr>\n",
              "    <tr>\n",
              "      <th>std</th>\n",
              "      <td>NaN</td>\n",
              "      <td>NaN</td>\n",
              "      <td>NaN</td>\n",
              "      <td>NaN</td>\n",
              "      <td>9.439868</td>\n",
              "      <td>1.615893</td>\n",
              "      <td>NaN</td>\n",
              "    </tr>\n",
              "  </tbody>\n",
              "</table>\n",
              "</div>\n",
              "      <button class=\"colab-df-convert\" onclick=\"convertToInteractive('df-aa922610-45d2-45f7-b96d-a3808e3befe1')\"\n",
              "              title=\"Convert this dataframe to an interactive table.\"\n",
              "              style=\"display:none;\">\n",
              "        \n",
              "  <svg xmlns=\"http://www.w3.org/2000/svg\" height=\"24px\"viewBox=\"0 0 24 24\"\n",
              "       width=\"24px\">\n",
              "    <path d=\"M0 0h24v24H0V0z\" fill=\"none\"/>\n",
              "    <path d=\"M18.56 5.44l.94 2.06.94-2.06 2.06-.94-2.06-.94-.94-2.06-.94 2.06-2.06.94zm-11 1L8.5 8.5l.94-2.06 2.06-.94-2.06-.94L8.5 2.5l-.94 2.06-2.06.94zm10 10l.94 2.06.94-2.06 2.06-.94-2.06-.94-.94-2.06-.94 2.06-2.06.94z\"/><path d=\"M17.41 7.96l-1.37-1.37c-.4-.4-.92-.59-1.43-.59-.52 0-1.04.2-1.43.59L10.3 9.45l-7.72 7.72c-.78.78-.78 2.05 0 2.83L4 21.41c.39.39.9.59 1.41.59.51 0 1.02-.2 1.41-.59l7.78-7.78 2.81-2.81c.8-.78.8-2.07 0-2.86zM5.41 20L4 18.59l7.72-7.72 1.47 1.35L5.41 20z\"/>\n",
              "  </svg>\n",
              "      </button>\n",
              "      \n",
              "  <style>\n",
              "    .colab-df-container {\n",
              "      display:flex;\n",
              "      flex-wrap:wrap;\n",
              "      gap: 12px;\n",
              "    }\n",
              "\n",
              "    .colab-df-convert {\n",
              "      background-color: #E8F0FE;\n",
              "      border: none;\n",
              "      border-radius: 50%;\n",
              "      cursor: pointer;\n",
              "      display: none;\n",
              "      fill: #1967D2;\n",
              "      height: 32px;\n",
              "      padding: 0 0 0 0;\n",
              "      width: 32px;\n",
              "    }\n",
              "\n",
              "    .colab-df-convert:hover {\n",
              "      background-color: #E2EBFA;\n",
              "      box-shadow: 0px 1px 2px rgba(60, 64, 67, 0.3), 0px 1px 3px 1px rgba(60, 64, 67, 0.15);\n",
              "      fill: #174EA6;\n",
              "    }\n",
              "\n",
              "    [theme=dark] .colab-df-convert {\n",
              "      background-color: #3B4455;\n",
              "      fill: #D2E3FC;\n",
              "    }\n",
              "\n",
              "    [theme=dark] .colab-df-convert:hover {\n",
              "      background-color: #434B5C;\n",
              "      box-shadow: 0px 1px 3px 1px rgba(0, 0, 0, 0.15);\n",
              "      filter: drop-shadow(0px 1px 2px rgba(0, 0, 0, 0.3));\n",
              "      fill: #FFFFFF;\n",
              "    }\n",
              "  </style>\n",
              "\n",
              "      <script>\n",
              "        const buttonEl =\n",
              "          document.querySelector('#df-aa922610-45d2-45f7-b96d-a3808e3befe1 button.colab-df-convert');\n",
              "        buttonEl.style.display =\n",
              "          google.colab.kernel.accessAllowed ? 'block' : 'none';\n",
              "\n",
              "        async function convertToInteractive(key) {\n",
              "          const element = document.querySelector('#df-aa922610-45d2-45f7-b96d-a3808e3befe1');\n",
              "          const dataTable =\n",
              "            await google.colab.kernel.invokeFunction('convertToInteractive',\n",
              "                                                     [key], {});\n",
              "          if (!dataTable) return;\n",
              "\n",
              "          const docLinkHtml = 'Like what you see? Visit the ' +\n",
              "            '<a target=\"_blank\" href=https://colab.research.google.com/notebooks/data_table.ipynb>data table notebook</a>'\n",
              "            + ' to learn more about interactive tables.';\n",
              "          element.innerHTML = '';\n",
              "          dataTable['output_type'] = 'display_data';\n",
              "          await google.colab.output.renderOutput(dataTable, element);\n",
              "          const docLink = document.createElement('div');\n",
              "          docLink.innerHTML = docLinkHtml;\n",
              "          element.appendChild(docLink);\n",
              "        }\n",
              "      </script>\n",
              "    </div>\n",
              "  </div>\n",
              "  "
            ]
          },
          "metadata": {},
          "execution_count": 12
        }
      ]
    },
    {
      "cell_type": "markdown",
      "source": [
        "### **Exploratory Data Analysis**"
      ],
      "metadata": {
        "id": "jimKK8eNt9_Z"
      }
    },
    {
      "cell_type": "code",
      "source": [
        "import numpy as np\n",
        "import matplotlib.pyplot as plt\n",
        "%matplotlib inline"
      ],
      "metadata": {
        "id": "2vP9HWP9ucZQ"
      },
      "execution_count": 13,
      "outputs": []
    },
    {
      "cell_type": "code",
      "source": [
        "print(f'Number of Tournaments in dataset: {len(pd.unique(df_results.tournament))}')\n",
        "print(f'Number of Home Teams in dataset: {len(pd.unique(df_results.home_team))}')\n",
        "print(f'Number of Away Teams in dataset: {len(pd.unique(df_results.away_team))}')\n",
        "print(f'Number of Countries in dataset: {len(pd.unique(df_results.country))}')"
      ],
      "metadata": {
        "colab": {
          "base_uri": "https://localhost:8080/"
        },
        "id": "TLYUylUcmVP2",
        "outputId": "9ce2acca-e054-4566-df52-a974588136ba"
      },
      "execution_count": 14,
      "outputs": [
        {
          "output_type": "stream",
          "name": "stdout",
          "text": [
            "Number of Tournaments in dataset: 27\n",
            "Number of Home Teams in dataset: 188\n",
            "Number of Away Teams in dataset: 184\n",
            "Number of Countries in dataset: 144\n"
          ]
        }
      ]
    },
    {
      "cell_type": "markdown",
      "source": [
        "**Due to large number of countries involved, visualization of countries will be restricted to top 10 or 20 Countries.**"
      ],
      "metadata": {
        "id": "_4BohDmVrVBp"
      }
    },
    {
      "cell_type": "code",
      "source": [
        "# visualize days matches were played\n",
        "df_results['Match_day'].value_counts().plot(kind='bar', figsize=(8,6), color='magenta', title='Days of the week matches were played')"
      ],
      "metadata": {
        "colab": {
          "base_uri": "https://localhost:8080/",
          "height": 455
        },
        "id": "pmO4YSIFuFb4",
        "outputId": "4c6d9586-4438-4c96-c073-85ebf6404124"
      },
      "execution_count": 15,
      "outputs": [
        {
          "output_type": "execute_result",
          "data": {
            "text/plain": [
              "<matplotlib.axes._subplots.AxesSubplot at 0x7f055f6e32d0>"
            ]
          },
          "metadata": {},
          "execution_count": 15
        },
        {
          "output_type": "display_data",
          "data": {
            "text/plain": [
              "<Figure size 576x432 with 1 Axes>"
            ],
            "image/png": "[encoded data removed]"
          },
          "metadata": {
            "needs_background": "light"
          }
        }
      ]
    },
    {
      "cell_type": "code",
      "source": [
        "df_results['Match_month'].value_counts().plot(kind='bar', figsize=(8,6), color='cyan', title='Distribution of Match Months')"
      ],
      "metadata": {
        "colab": {
          "base_uri": "https://localhost:8080/",
          "height": 410
        },
        "id": "YkQwS2Wyv74t",
        "outputId": "206759dd-fd2f-4599-9902-4da3a6e497bd"
      },
      "execution_count": 16,
      "outputs": [
        {
          "output_type": "execute_result",
          "data": {
            "text/plain": [
              "<matplotlib.axes._subplots.AxesSubplot at 0x7f055b9435d0>"
            ]
          },
          "metadata": {},
          "execution_count": 16
        },
        {
          "output_type": "display_data",
          "data": {
            "text/plain": [
              "<Figure size 576x432 with 1 Axes>"
            ],
            "image/png": "[encoded data removed]"
          },
          "metadata": {
            "needs_background": "light"
          }
        }
      ]
    },
    {
      "cell_type": "markdown",
      "source": [
        "From the above visualizations, most matches were played in March and on weekends."
      ],
      "metadata": {
        "id": "OGExwQtLzBzI"
      }
    },
    {
      "cell_type": "code",
      "source": [
        "df_results['neutral'].value_counts().plot(kind='bar')"
      ],
      "metadata": {
        "colab": {
          "base_uri": "https://localhost:8080/",
          "height": 298
        },
        "id": "PgDvA9u-5b-N",
        "outputId": "3c36cee2-dfb6-4742-8a6d-65617e23e79e"
      },
      "execution_count": 17,
      "outputs": [
        {
          "output_type": "execute_result",
          "data": {
            "text/plain": [
              "<matplotlib.axes._subplots.AxesSubplot at 0x7f055b427150>"
            ]
          },
          "metadata": {},
          "execution_count": 17
        },
        {
          "output_type": "display_data",
          "data": {
            "text/plain": [
              "<Figure size 432x288 with 1 Axes>"
            ],
            "image/png": "[encoded data removed]"
          },
          "metadata": {
            "needs_background": "light"
          }
        }
      ]
    },
    {
      "cell_type": "markdown",
      "source": [
        "More games were played on non-neutral ground"
      ],
      "metadata": {
        "id": "v_Bv0aGC6pP2"
      }
    },
    {
      "cell_type": "code",
      "source": [
        "number=[]\n",
        "for x in df_results['Match_year'].unique():\n",
        "    number.append(df_results[df_results['Match_year']==x]['tournament'].nunique())"
      ],
      "metadata": {
        "id": "vkqOjqNFfk5O"
      },
      "execution_count": 18,
      "outputs": []
    },
    {
      "cell_type": "code",
      "source": [
        "plt.figure(figsize=(15,8))\n",
        "plt.bar(x=df_results['Match_year'].unique(), height=number, color='hotpink')\n",
        "plt.xlabel('Year', fontsize=14)\n",
        "plt.ylabel('Number of Tournaments', fontsize=14)\n",
        "plt.xticks(ticks=df_results['Match_year'].unique(), rotation=90)\n",
        "plt.title('Number of Tournaments per Year', fontsize=18)\n",
        "plt.show()"
      ],
      "metadata": {
        "colab": {
          "base_uri": "https://localhost:8080/",
          "height": 536
        },
        "id": "iolZt6Ayd_PV",
        "outputId": "05714d0f-f385-4c8c-d0d9-b74056153035"
      },
      "execution_count": 19,
      "outputs": [
        {
          "output_type": "display_data",
          "data": {
            "text/plain": [
              "<Figure size 1080x576 with 1 Axes>"
            ],
            "image/png": "[encoded data removed]"
          },
          "metadata": {
            "needs_background": "light"
          }
        }
      ]
    },
    {
      "cell_type": "code",
      "source": [
        "tournaments=[]\n",
        "for x in df_results['tournament'].unique():\n",
        "    tournaments.append(df_results[df_results['tournament']==x]['Match_year'].nunique())"
      ],
      "metadata": {
        "id": "OMhA86FHjf3O"
      },
      "execution_count": 20,
      "outputs": []
    },
    {
      "cell_type": "code",
      "source": [
        "plt.figure(figsize=(18,10))\n",
        "plt.bar(x=df_results['tournament'].unique(), height=tournaments, color='indigo')\n",
        "plt.xticks(rotation=90)\n",
        "plt.title('The Distribution of Tournaments Played', fontsize=18)\n",
        "plt.xlabel('Tournaments', fontsize=14)\n",
        "plt.ylabel('Number', fontsize=14)\n",
        "plt.show()"
      ],
      "metadata": {
        "colab": {
          "base_uri": "https://localhost:8080/",
          "height": 796
        },
        "id": "rn2VUnpIjveg",
        "outputId": "50f94cee-d766-4742-e66f-0254f502c564"
      },
      "execution_count": 21,
      "outputs": [
        {
          "output_type": "display_data",
          "data": {
            "text/plain": [
              "<Figure size 1296x720 with 1 Axes>"
            ],
            "image/png": "[encoded data removed]"
          },
          "metadata": {
            "needs_background": "light"
          }
        }
      ]
    },
    {
      "cell_type": "markdown",
      "source": [
        "Let check for any form of home advantage by comparing the Top 10 Teams with Highest Home Scores and matches hosted by home team (i.e Countries that hosted Non-neutral Matches). Home advantage is the perceived ease of players playing in their homeland and thereby having more cheerers in the Stadium while the match is played. "
      ],
      "metadata": {
        "id": "ybMIJkzmsMK6"
      }
    },
    {
      "cell_type": "code",
      "source": [
        "# Getting top 10 teams at home ground\n",
        "home_data = df_results.groupby('home_team')['home_score'].sum().sort_values(ascending=False).head(10)"
      ],
      "metadata": {
        "id": "UwGgvSueq9-1"
      },
      "execution_count": 22,
      "outputs": []
    },
    {
      "cell_type": "code",
      "source": [
        "# Top 10 teams at away ground\n",
        "away_data = df_results.groupby('away_team')['away_score'].sum().sort_values(ascending=False).head(10)"
      ],
      "metadata": {
        "id": "s6Lx0gOkrb4y"
      },
      "execution_count": 23,
      "outputs": []
    },
    {
      "cell_type": "code",
      "source": [
        "plt.figure(figsize=(15,6))\n",
        "plt.subplot(1,2,1)\n",
        "plt.bar(x=list(home_data.index), height=list(home_data.values), color='maroon')\n",
        "plt.xticks(rotation=90)\n",
        "plt.xlabel('Country',  fontsize=14)\n",
        "plt.ylabel('Home Score',  fontsize=14)\n",
        "plt.title('Top 10 Teams with Highest Home Scores', fontsize=18)\n",
        "plt.subplot(1,2,2)\n",
        "plt.bar(x=list(away_data.index), height=list(away_data.values), color='turquoise')\n",
        "plt.xticks(rotation=90)\n",
        "plt.xlabel('Country', fontsize=14)\n",
        "plt.ylabel('Away Score',  fontsize=14)\n",
        "plt.title('Top 10 Teams with Highest Away Scores', fontsize=18)\n",
        "plt.show()"
      ],
      "metadata": {
        "colab": {
          "base_uri": "https://localhost:8080/",
          "height": 470
        },
        "id": "2iny9Fkeucc7",
        "outputId": "eef1e361-c158-4057-b627-b5cc90477ab6"
      },
      "execution_count": 24,
      "outputs": [
        {
          "output_type": "display_data",
          "data": {
            "text/plain": [
              "<Figure size 1080x432 with 2 Axes>"
            ],
            "image/png": "[encoded data removed]"
          },
          "metadata": {
            "needs_background": "light"
          }
        }
      ]
    },
    {
      "cell_type": "code",
      "source": [
        "nonneutral_host=[]\n",
        "for x in df_results['country'].unique():\n",
        "        df_con=df_results[df_results['country']==x]\n",
        "        nonneutral_host.append(df_con[(df_con['home_team']==x) | (df_con['away_team']==x)]['date'].count())"
      ],
      "metadata": {
        "id": "9rYaZkyvtZF-"
      },
      "execution_count": 25,
      "outputs": []
    },
    {
      "cell_type": "code",
      "source": [
        "df_nonneutral = pd.DataFrame({'Host Country':df_results['country'].unique(),\n",
        "                           'Number of non-neutral Hosting':nonneutral_host}).sort_values(by='Number of non-neutral Hosting',\n",
        "                                                                                         ascending=False).head(20)"
      ],
      "metadata": {
        "id": "mUmTssIstfjL"
      },
      "execution_count": 26,
      "outputs": []
    },
    {
      "cell_type": "code",
      "source": [
        "plt.figure(figsize=(12,6))\n",
        "plt.bar(x=df_nonneutral['Host Country'], height=df_nonneutral['Number of non-neutral Hosting'], color='green')\n",
        "plt.xlabel('Country', fontsize=13)\n",
        "plt.ylabel('Number of Non-neutral Hostings', fontsize=13)\n",
        "plt.xticks(rotation=90)\n",
        "plt.title('Top 20 Countries that hosted Non-neutral Matches', fontsize=18)\n",
        "plt.show()"
      ],
      "metadata": {
        "colab": {
          "base_uri": "https://localhost:8080/",
          "height": 494
        },
        "id": "XNs_T9nFtmmY",
        "outputId": "88f67863-aeac-4eef-f62b-a2fd947018e6"
      },
      "execution_count": 27,
      "outputs": [
        {
          "output_type": "display_data",
          "data": {
            "text/plain": [
              "<Figure size 864x432 with 1 Axes>"
            ],
            "image/png": "[encoded data removed]"
          },
          "metadata": {
            "needs_background": "light"
          }
        }
      ]
    },
    {
      "cell_type": "markdown",
      "source": [
        "It appears that mostly the United States; then other countries like: China PR, Germany, Sweden and Denmark may be enjoying some sort of home advantage. "
      ],
      "metadata": {
        "id": "_iLf3gZbuU0m"
      }
    },
    {
      "cell_type": "markdown",
      "source": [
        "**Let's also visualize the top 20 neutral match host countries and overall host Countries**"
      ],
      "metadata": {
        "id": "jLiJys-Ct7ZC"
      }
    },
    {
      "cell_type": "code",
      "source": [
        "neutral_host=[]\n",
        "for x in df_results['country'].unique():\n",
        "        df_con=df_results[df_results['country']==x]\n",
        "        neutral_host.append(df_con[(df_con['home_team']!=x) & (df_con['away_team']!=x)]['date'].count())"
      ],
      "metadata": {
        "id": "BDHLT2oRt9PG"
      },
      "execution_count": 28,
      "outputs": []
    },
    {
      "cell_type": "code",
      "source": [
        "df_neutral = pd.DataFrame({'Host Country':df_results['country'].unique(),\n",
        "                           'Number of neutral Hosting':neutral_host}).sort_values(by='Number of neutral Hosting', ascending=False).head(20)"
      ],
      "metadata": {
        "id": "KWKPRgzYuHyo"
      },
      "execution_count": 29,
      "outputs": []
    },
    {
      "cell_type": "code",
      "source": [
        "plt.figure(figsize=(12,6))\n",
        "plt.bar(x=df_neutral['Host Country'], height=df_neutral['Number of neutral Hosting'], color='red')\n",
        "plt.xlabel('Country', fontsize=13)\n",
        "plt.ylabel('Number of Neutral Hostings', fontsize=13)\n",
        "plt.xticks(rotation=90)\n",
        "plt.title('Top 20 Countries that hosted Neutral Matches', fontsize=18)\n",
        "plt.show()"
      ],
      "metadata": {
        "colab": {
          "base_uri": "https://localhost:8080/",
          "height": 476
        },
        "id": "zjl4vIH2uUab",
        "outputId": "0217e91c-0624-4176-8b76-bd2bc8d0849b"
      },
      "execution_count": 30,
      "outputs": [
        {
          "output_type": "display_data",
          "data": {
            "text/plain": [
              "<Figure size 864x432 with 1 Axes>"
            ],
            "image/png": "[encoded data removed]"
          },
          "metadata": {
            "needs_background": "light"
          }
        }
      ]
    },
    {
      "cell_type": "code",
      "source": [
        "# overall top hosting countries\n",
        "overall_hosts=[]\n",
        "for x in df_results['country'].unique():\n",
        "    overall_hosts.append(df_results[df_results['country']==x]['Match_year'].nunique())\n",
        "\n",
        "df_host=pd.DataFrame({'Host Country':df_results['country'].unique(),\n",
        "                      'Number of Hosting':overall_hosts}).sort_values(by='Number of Hosting', ascending=False).head(10)"
      ],
      "metadata": {
        "id": "l7Jn2eHavk2Z"
      },
      "execution_count": 31,
      "outputs": []
    },
    {
      "cell_type": "code",
      "source": [
        "plt.figure(figsize=(10,6))\n",
        "plt.bar(x=df_host['Host Country'], height=df_host['Number of Hosting'], color='coral')\n",
        "plt.xlabel('Country', fontsize=13)\n",
        "plt.ylabel('Number of Overall Hostings', fontsize=14)\n",
        "plt.xticks(rotation=90)\n",
        "plt.title('Top 10 Countries with Highest Number of Overall Hostings', fontsize=18)\n",
        "plt.show()"
      ],
      "metadata": {
        "colab": {
          "base_uri": "https://localhost:8080/",
          "height": 459
        },
        "id": "IimTNn7_xB5u",
        "outputId": "08914f88-0c04-4057-b62c-4e369aa793c1"
      },
      "execution_count": 32,
      "outputs": [
        {
          "output_type": "display_data",
          "data": {
            "text/plain": [
              "<Figure size 720x432 with 1 Axes>"
            ],
            "image/png": "[encoded data removed]"
          },
          "metadata": {
            "needs_background": "light"
          }
        }
      ]
    },
    {
      "cell_type": "markdown",
      "source": [
        "Portugal was the highest overall host and also the highest host of neutral games played. "
      ],
      "metadata": {
        "id": "TAqqM2E1vUHF"
      }
    },
    {
      "cell_type": "markdown",
      "source": [
        "**Overall top 10 performing Teams in Matches played**"
      ],
      "metadata": {
        "id": "Oi-g6o641Ald"
      }
    },
    {
      "cell_type": "code",
      "source": [
        "df_home_away = pd.DataFrame({'total_home_scores':home_data ,'total_away_scores':away_data})"
      ],
      "metadata": {
        "id": "jj1VbzMp0yu7"
      },
      "execution_count": 33,
      "outputs": []
    },
    {
      "cell_type": "code",
      "source": [
        "df_home_away.isna().sum()"
      ],
      "metadata": {
        "colab": {
          "base_uri": "https://localhost:8080/"
        },
        "id": "uIpW2eaP1Lxw",
        "outputId": "93b83e52-0a3a-49ae-8c5c-861e914ce6b9"
      },
      "execution_count": 34,
      "outputs": [
        {
          "output_type": "execute_result",
          "data": {
            "text/plain": [
              "total_home_scores    3\n",
              "total_away_scores    3\n",
              "dtype: int64"
            ]
          },
          "metadata": {},
          "execution_count": 34
        }
      ]
    },
    {
      "cell_type": "code",
      "source": [
        "df_home_away.fillna(0, inplace=True)"
      ],
      "metadata": {
        "id": "aR8GJKSz1pIu"
      },
      "execution_count": 35,
      "outputs": []
    },
    {
      "cell_type": "code",
      "source": [
        "df_home_away['total_scores'] = df_home_away['total_home_scores'] + df_home_away['total_away_scores']"
      ],
      "metadata": {
        "id": "iXmo4iOx1z5a"
      },
      "execution_count": 36,
      "outputs": []
    },
    {
      "cell_type": "code",
      "source": [
        "df_home_away_sorted = df_home_away.sort_values(by='total_scores', ascending=False).head(10)"
      ],
      "metadata": {
        "id": "tLLSxqia2Cir"
      },
      "execution_count": 37,
      "outputs": []
    },
    {
      "cell_type": "code",
      "source": [
        "df_home_away_sorted"
      ],
      "metadata": {
        "colab": {
          "base_uri": "https://localhost:8080/",
          "height": 363
        },
        "id": "gaGx4pgx2EmH",
        "outputId": "993205d1-3b8b-4205-d619-b108190b8f32"
      },
      "execution_count": 38,
      "outputs": [
        {
          "output_type": "execute_result",
          "data": {
            "text/plain": [
              "               total_home_scores  total_away_scores  total_scores\n",
              "United States              903.0              234.0        1137.0\n",
              "Germany                    471.0              304.0         775.0\n",
              "Norway                     446.0              246.0         692.0\n",
              "China PR                   487.0              155.0         642.0\n",
              "Sweden                     365.0              255.0         620.0\n",
              "Denmark                    239.0              257.0         496.0\n",
              "New Zealand                223.0              149.0         372.0\n",
              "Japan                      340.0                0.0         340.0\n",
              "Brazil                     299.0                0.0         299.0\n",
              "North Korea                214.0                0.0         214.0"
            ],
            "text/html": [
              "\n",
              "  <div id=\"df-4f47134a-b801-47b6-aff7-e481e09241b2\">\n",
              "    <div class=\"colab-df-container\">\n",
              "      <div>\n",
              "<style scoped>\n",
              "    .dataframe tbody tr th:only-of-type {\n",
              "        vertical-align: middle;\n",
              "    }\n",
              "\n",
              "    .dataframe tbody tr th {\n",
              "        vertical-align: top;\n",
              "    }\n",
              "\n",
              "    .dataframe thead th {\n",
              "        text-align: right;\n",
              "    }\n",
              "</style>\n",
              "<table border=\"1\" class=\"dataframe\">\n",
              "  <thead>\n",
              "    <tr style=\"text-align: right;\">\n",
              "      <th></th>\n",
              "      <th>total_home_scores</th>\n",
              "      <th>total_away_scores</th>\n",
              "      <th>total_scores</th>\n",
              "    </tr>\n",
              "  </thead>\n",
              "  <tbody>\n",
              "    <tr>\n",
              "      <th>United States</th>\n",
              "      <td>903.0</td>\n",
              "      <td>234.0</td>\n",
              "      <td>1137.0</td>\n",
              "    </tr>\n",
              "    <tr>\n",
              "      <th>Germany</th>\n",
              "      <td>471.0</td>\n",
              "      <td>304.0</td>\n",
              "      <td>775.0</td>\n",
              "    </tr>\n",
              "    <tr>\n",
              "      <th>Norway</th>\n",
              "      <td>446.0</td>\n",
              "      <td>246.0</td>\n",
              "      <td>692.0</td>\n",
              "    </tr>\n",
              "    <tr>\n",
              "      <th>China PR</th>\n",
              "      <td>487.0</td>\n",
              "      <td>155.0</td>\n",
              "      <td>642.0</td>\n",
              "    </tr>\n",
              "    <tr>\n",
              "      <th>Sweden</th>\n",
              "      <td>365.0</td>\n",
              "      <td>255.0</td>\n",
              "      <td>620.0</td>\n",
              "    </tr>\n",
              "    <tr>\n",
              "      <th>Denmark</th>\n",
              "      <td>239.0</td>\n",
              "      <td>257.0</td>\n",
              "      <td>496.0</td>\n",
              "    </tr>\n",
              "    <tr>\n",
              "      <th>New Zealand</th>\n",
              "      <td>223.0</td>\n",
              "      <td>149.0</td>\n",
              "      <td>372.0</td>\n",
              "    </tr>\n",
              "    <tr>\n",
              "      <th>Japan</th>\n",
              "      <td>340.0</td>\n",
              "      <td>0.0</td>\n",
              "      <td>340.0</td>\n",
              "    </tr>\n",
              "    <tr>\n",
              "      <th>Brazil</th>\n",
              "      <td>299.0</td>\n",
              "      <td>0.0</td>\n",
              "      <td>299.0</td>\n",
              "    </tr>\n",
              "    <tr>\n",
              "      <th>North Korea</th>\n",
              "      <td>214.0</td>\n",
              "      <td>0.0</td>\n",
              "      <td>214.0</td>\n",
              "    </tr>\n",
              "  </tbody>\n",
              "</table>\n",
              "</div>\n",
              "      <button class=\"colab-df-convert\" onclick=\"convertToInteractive('df-4f47134a-b801-47b6-aff7-e481e09241b2')\"\n",
              "              title=\"Convert this dataframe to an interactive table.\"\n",
              "              style=\"display:none;\">\n",
              "        \n",
              "  <svg xmlns=\"http://www.w3.org/2000/svg\" height=\"24px\"viewBox=\"0 0 24 24\"\n",
              "       width=\"24px\">\n",
              "    <path d=\"M0 0h24v24H0V0z\" fill=\"none\"/>\n",
              "    <path d=\"M18.56 5.44l.94 2.06.94-2.06 2.06-.94-2.06-.94-.94-2.06-.94 2.06-2.06.94zm-11 1L8.5 8.5l.94-2.06 2.06-.94-2.06-.94L8.5 2.5l-.94 2.06-2.06.94zm10 10l.94 2.06.94-2.06 2.06-.94-2.06-.94-.94-2.06-.94 2.06-2.06.94z\"/><path d=\"M17.41 7.96l-1.37-1.37c-.4-.4-.92-.59-1.43-.59-.52 0-1.04.2-1.43.59L10.3 9.45l-7.72 7.72c-.78.78-.78 2.05 0 2.83L4 21.41c.39.39.9.59 1.41.59.51 0 1.02-.2 1.41-.59l7.78-7.78 2.81-2.81c.8-.78.8-2.07 0-2.86zM5.41 20L4 18.59l7.72-7.72 1.47 1.35L5.41 20z\"/>\n",
              "  </svg>\n",
              "      </button>\n",
              "      \n",
              "  <style>\n",
              "    .colab-df-container {\n",
              "      display:flex;\n",
              "      flex-wrap:wrap;\n",
              "      gap: 12px;\n",
              "    }\n",
              "\n",
              "    .colab-df-convert {\n",
              "      background-color: #E8F0FE;\n",
              "      border: none;\n",
              "      border-radius: 50%;\n",
              "      cursor: pointer;\n",
              "      display: none;\n",
              "      fill: #1967D2;\n",
              "      height: 32px;\n",
              "      padding: 0 0 0 0;\n",
              "      width: 32px;\n",
              "    }\n",
              "\n",
              "    .colab-df-convert:hover {\n",
              "      background-color: #E2EBFA;\n",
              "      box-shadow: 0px 1px 2px rgba(60, 64, 67, 0.3), 0px 1px 3px 1px rgba(60, 64, 67, 0.15);\n",
              "      fill: #174EA6;\n",
              "    }\n",
              "\n",
              "    [theme=dark] .colab-df-convert {\n",
              "      background-color: #3B4455;\n",
              "      fill: #D2E3FC;\n",
              "    }\n",
              "\n",
              "    [theme=dark] .colab-df-convert:hover {\n",
              "      background-color: #434B5C;\n",
              "      box-shadow: 0px 1px 3px 1px rgba(0, 0, 0, 0.15);\n",
              "      filter: drop-shadow(0px 1px 2px rgba(0, 0, 0, 0.3));\n",
              "      fill: #FFFFFF;\n",
              "    }\n",
              "  </style>\n",
              "\n",
              "      <script>\n",
              "        const buttonEl =\n",
              "          document.querySelector('#df-4f47134a-b801-47b6-aff7-e481e09241b2 button.colab-df-convert');\n",
              "        buttonEl.style.display =\n",
              "          google.colab.kernel.accessAllowed ? 'block' : 'none';\n",
              "\n",
              "        async function convertToInteractive(key) {\n",
              "          const element = document.querySelector('#df-4f47134a-b801-47b6-aff7-e481e09241b2');\n",
              "          const dataTable =\n",
              "            await google.colab.kernel.invokeFunction('convertToInteractive',\n",
              "                                                     [key], {});\n",
              "          if (!dataTable) return;\n",
              "\n",
              "          const docLinkHtml = 'Like what you see? Visit the ' +\n",
              "            '<a target=\"_blank\" href=https://colab.research.google.com/notebooks/data_table.ipynb>data table notebook</a>'\n",
              "            + ' to learn more about interactive tables.';\n",
              "          element.innerHTML = '';\n",
              "          dataTable['output_type'] = 'display_data';\n",
              "          await google.colab.output.renderOutput(dataTable, element);\n",
              "          const docLink = document.createElement('div');\n",
              "          docLink.innerHTML = docLinkHtml;\n",
              "          element.appendChild(docLink);\n",
              "        }\n",
              "      </script>\n",
              "    </div>\n",
              "  </div>\n",
              "  "
            ]
          },
          "metadata": {},
          "execution_count": 38
        }
      ]
    },
    {
      "cell_type": "code",
      "source": [
        "plt.figure(figsize=(10,6))\n",
        "plt.bar(x=list(df_home_away_sorted.index), height=df_home_away_sorted['total_scores'], color='orange')\n",
        "plt.xticks(rotation=90)\n",
        "plt.xlabel('Country', fontsize=14)\n",
        "plt.ylabel('Total Score', fontsize=14)\n",
        "plt.title('Overall Top 10 Performing Teams in Matches', fontsize=18)\n",
        "plt.show()"
      ],
      "metadata": {
        "colab": {
          "base_uri": "https://localhost:8080/",
          "height": 470
        },
        "id": "rTDlTgDf2RVg",
        "outputId": "24764574-a7a5-4bcf-bb9d-6fb5a7076d2f"
      },
      "execution_count": 39,
      "outputs": [
        {
          "output_type": "display_data",
          "data": {
            "text/plain": [
              "<Figure size 720x432 with 1 Axes>"
            ],
            "image/png": "[encoded data removed]"
          },
          "metadata": {
            "needs_background": "light"
          }
        }
      ]
    },
    {
      "cell_type": "markdown",
      "source": [
        "Most top performing countries enjoyed home advantage. Home advantage might be a thing in the game of Football."
      ],
      "metadata": {
        "id": "K5maVRBF2MU6"
      }
    },
    {
      "cell_type": "markdown",
      "source": [
        "**Check for the ratio of home wins and loss by overall top 10 Host Countries**"
      ],
      "metadata": {
        "id": "zOmBy2CRzAmy"
      }
    },
    {
      "cell_type": "code",
      "source": [
        "home_win=[]\n",
        "home_lose=[]\n",
        "home_draw=[]\n",
        "for x in df_results['country'].unique():\n",
        "    df_con=df_results[df_results['country']==x]\n",
        "    df_home=df_con[df_con['home_team']==x]\n",
        "    home_win.append(df_con[df_con['home_score']>df_con['away_score']]['date'].count())\n",
        "    home_lose.append(df_con[df_con['home_score']<df_con['away_score']]['date'].count())\n",
        "    home_draw.append(df_con[df_con['home_score']==df_con['away_score']]['date'].count())"
      ],
      "metadata": {
        "id": "WJ_rQvukGhm-"
      },
      "execution_count": 40,
      "outputs": []
    },
    {
      "cell_type": "code",
      "source": [
        "df_game = pd.DataFrame({'Host Country':df_results['country'].unique(),\n",
        "                      'Number of Wins':home_win, 'Number of Losses':home_lose, 'Number of Draw':home_draw})"
      ],
      "metadata": {
        "id": "Tn6jU38UIM6F"
      },
      "execution_count": 41,
      "outputs": []
    },
    {
      "cell_type": "code",
      "source": [
        "df_game.head()"
      ],
      "metadata": {
        "colab": {
          "base_uri": "https://localhost:8080/",
          "height": 206
        },
        "id": "NJK_0Ii88aNo",
        "outputId": "03369820-a93e-4a2e-d5e9-e5785175d3c0"
      },
      "execution_count": 42,
      "outputs": [
        {
          "output_type": "execute_result",
          "data": {
            "text/plain": [
              "  Host Country  Number of Wins  Number of Losses  Number of Draw\n",
              "0        Italy              53                10              13\n",
              "1    Hong Kong              41                13               3\n",
              "2       Taiwan              32                11               0\n",
              "3        India              13                 4               2\n",
              "4      Finland              26                27              14"
            ],
            "text/html": [
              "\n",
              "  <div id=\"df-168e5363-b47f-4ab6-928b-2b514a65edb0\">\n",
              "    <div class=\"colab-df-container\">\n",
              "      <div>\n",
              "<style scoped>\n",
              "    .dataframe tbody tr th:only-of-type {\n",
              "        vertical-align: middle;\n",
              "    }\n",
              "\n",
              "    .dataframe tbody tr th {\n",
              "        vertical-align: top;\n",
              "    }\n",
              "\n",
              "    .dataframe thead th {\n",
              "        text-align: right;\n",
              "    }\n",
              "</style>\n",
              "<table border=\"1\" class=\"dataframe\">\n",
              "  <thead>\n",
              "    <tr style=\"text-align: right;\">\n",
              "      <th></th>\n",
              "      <th>Host Country</th>\n",
              "      <th>Number of Wins</th>\n",
              "      <th>Number of Losses</th>\n",
              "      <th>Number of Draw</th>\n",
              "    </tr>\n",
              "  </thead>\n",
              "  <tbody>\n",
              "    <tr>\n",
              "      <th>0</th>\n",
              "      <td>Italy</td>\n",
              "      <td>53</td>\n",
              "      <td>10</td>\n",
              "      <td>13</td>\n",
              "    </tr>\n",
              "    <tr>\n",
              "      <th>1</th>\n",
              "      <td>Hong Kong</td>\n",
              "      <td>41</td>\n",
              "      <td>13</td>\n",
              "      <td>3</td>\n",
              "    </tr>\n",
              "    <tr>\n",
              "      <th>2</th>\n",
              "      <td>Taiwan</td>\n",
              "      <td>32</td>\n",
              "      <td>11</td>\n",
              "      <td>0</td>\n",
              "    </tr>\n",
              "    <tr>\n",
              "      <th>3</th>\n",
              "      <td>India</td>\n",
              "      <td>13</td>\n",
              "      <td>4</td>\n",
              "      <td>2</td>\n",
              "    </tr>\n",
              "    <tr>\n",
              "      <th>4</th>\n",
              "      <td>Finland</td>\n",
              "      <td>26</td>\n",
              "      <td>27</td>\n",
              "      <td>14</td>\n",
              "    </tr>\n",
              "  </tbody>\n",
              "</table>\n",
              "</div>\n",
              "      <button class=\"colab-df-convert\" onclick=\"convertToInteractive('df-168e5363-b47f-4ab6-928b-2b514a65edb0')\"\n",
              "              title=\"Convert this dataframe to an interactive table.\"\n",
              "              style=\"display:none;\">\n",
              "        \n",
              "  <svg xmlns=\"http://www.w3.org/2000/svg\" height=\"24px\"viewBox=\"0 0 24 24\"\n",
              "       width=\"24px\">\n",
              "    <path d=\"M0 0h24v24H0V0z\" fill=\"none\"/>\n",
              "    <path d=\"M18.56 5.44l.94 2.06.94-2.06 2.06-.94-2.06-.94-.94-2.06-.94 2.06-2.06.94zm-11 1L8.5 8.5l.94-2.06 2.06-.94-2.06-.94L8.5 2.5l-.94 2.06-2.06.94zm10 10l.94 2.06.94-2.06 2.06-.94-2.06-.94-.94-2.06-.94 2.06-2.06.94z\"/><path d=\"M17.41 7.96l-1.37-1.37c-.4-.4-.92-.59-1.43-.59-.52 0-1.04.2-1.43.59L10.3 9.45l-7.72 7.72c-.78.78-.78 2.05 0 2.83L4 21.41c.39.39.9.59 1.41.59.51 0 1.02-.2 1.41-.59l7.78-7.78 2.81-2.81c.8-.78.8-2.07 0-2.86zM5.41 20L4 18.59l7.72-7.72 1.47 1.35L5.41 20z\"/>\n",
              "  </svg>\n",
              "      </button>\n",
              "      \n",
              "  <style>\n",
              "    .colab-df-container {\n",
              "      display:flex;\n",
              "      flex-wrap:wrap;\n",
              "      gap: 12px;\n",
              "    }\n",
              "\n",
              "    .colab-df-convert {\n",
              "      background-color: #E8F0FE;\n",
              "      border: none;\n",
              "      border-radius: 50%;\n",
              "      cursor: pointer;\n",
              "      display: none;\n",
              "      fill: #1967D2;\n",
              "      height: 32px;\n",
              "      padding: 0 0 0 0;\n",
              "      width: 32px;\n",
              "    }\n",
              "\n",
              "    .colab-df-convert:hover {\n",
              "      background-color: #E2EBFA;\n",
              "      box-shadow: 0px 1px 2px rgba(60, 64, 67, 0.3), 0px 1px 3px 1px rgba(60, 64, 67, 0.15);\n",
              "      fill: #174EA6;\n",
              "    }\n",
              "\n",
              "    [theme=dark] .colab-df-convert {\n",
              "      background-color: #3B4455;\n",
              "      fill: #D2E3FC;\n",
              "    }\n",
              "\n",
              "    [theme=dark] .colab-df-convert:hover {\n",
              "      background-color: #434B5C;\n",
              "      box-shadow: 0px 1px 3px 1px rgba(0, 0, 0, 0.15);\n",
              "      filter: drop-shadow(0px 1px 2px rgba(0, 0, 0, 0.3));\n",
              "      fill: #FFFFFF;\n",
              "    }\n",
              "  </style>\n",
              "\n",
              "      <script>\n",
              "        const buttonEl =\n",
              "          document.querySelector('#df-168e5363-b47f-4ab6-928b-2b514a65edb0 button.colab-df-convert');\n",
              "        buttonEl.style.display =\n",
              "          google.colab.kernel.accessAllowed ? 'block' : 'none';\n",
              "\n",
              "        async function convertToInteractive(key) {\n",
              "          const element = document.querySelector('#df-168e5363-b47f-4ab6-928b-2b514a65edb0');\n",
              "          const dataTable =\n",
              "            await google.colab.kernel.invokeFunction('convertToInteractive',\n",
              "                                                     [key], {});\n",
              "          if (!dataTable) return;\n",
              "\n",
              "          const docLinkHtml = 'Like what you see? Visit the ' +\n",
              "            '<a target=\"_blank\" href=https://colab.research.google.com/notebooks/data_table.ipynb>data table notebook</a>'\n",
              "            + ' to learn more about interactive tables.';\n",
              "          element.innerHTML = '';\n",
              "          dataTable['output_type'] = 'display_data';\n",
              "          await google.colab.output.renderOutput(dataTable, element);\n",
              "          const docLink = document.createElement('div');\n",
              "          docLink.innerHTML = docLinkHtml;\n",
              "          element.appendChild(docLink);\n",
              "        }\n",
              "      </script>\n",
              "    </div>\n",
              "  </div>\n",
              "  "
            ]
          },
          "metadata": {},
          "execution_count": 42
        }
      ]
    },
    {
      "cell_type": "code",
      "source": [
        "df_combined = pd.merge(df_game, df_host, on='Host Country').sort_values(by='Number of Hosting', ascending=False)"
      ],
      "metadata": {
        "id": "StysCzsH-xWV"
      },
      "execution_count": 43,
      "outputs": []
    },
    {
      "cell_type": "code",
      "source": [
        "df_combined.head()"
      ],
      "metadata": {
        "colab": {
          "base_uri": "https://localhost:8080/",
          "height": 206
        },
        "id": "-BqazJumDo0Y",
        "outputId": "9d83d6e3-d36a-4bc3-c69d-b6a7bf662a94"
      },
      "execution_count": 44,
      "outputs": [
        {
          "output_type": "execute_result",
          "data": {
            "text/plain": [
              "  Host Country  Number of Wins  Number of Losses  Number of Draw  \\\n",
              "7     Portugal             271               227              89   \n",
              "0        Italy              53                10              13   \n",
              "4       Sweden              63                22              21   \n",
              "2       Norway              47                 7               9   \n",
              "8      Germany              70                15              16   \n",
              "\n",
              "   Number of Hosting  \n",
              "7                 31  \n",
              "0                 28  \n",
              "4                 28  \n",
              "2                 26  \n",
              "8                 26  "
            ],
            "text/html": [
              "\n",
              "  <div id=\"df-773321d3-9408-4ee1-80bf-3374f668623d\">\n",
              "    <div class=\"colab-df-container\">\n",
              "      <div>\n",
              "<style scoped>\n",
              "    .dataframe tbody tr th:only-of-type {\n",
              "        vertical-align: middle;\n",
              "    }\n",
              "\n",
              "    .dataframe tbody tr th {\n",
              "        vertical-align: top;\n",
              "    }\n",
              "\n",
              "    .dataframe thead th {\n",
              "        text-align: right;\n",
              "    }\n",
              "</style>\n",
              "<table border=\"1\" class=\"dataframe\">\n",
              "  <thead>\n",
              "    <tr style=\"text-align: right;\">\n",
              "      <th></th>\n",
              "      <th>Host Country</th>\n",
              "      <th>Number of Wins</th>\n",
              "      <th>Number of Losses</th>\n",
              "      <th>Number of Draw</th>\n",
              "      <th>Number of Hosting</th>\n",
              "    </tr>\n",
              "  </thead>\n",
              "  <tbody>\n",
              "    <tr>\n",
              "      <th>7</th>\n",
              "      <td>Portugal</td>\n",
              "      <td>271</td>\n",
              "      <td>227</td>\n",
              "      <td>89</td>\n",
              "      <td>31</td>\n",
              "    </tr>\n",
              "    <tr>\n",
              "      <th>0</th>\n",
              "      <td>Italy</td>\n",
              "      <td>53</td>\n",
              "      <td>10</td>\n",
              "      <td>13</td>\n",
              "      <td>28</td>\n",
              "    </tr>\n",
              "    <tr>\n",
              "      <th>4</th>\n",
              "      <td>Sweden</td>\n",
              "      <td>63</td>\n",
              "      <td>22</td>\n",
              "      <td>21</td>\n",
              "      <td>28</td>\n",
              "    </tr>\n",
              "    <tr>\n",
              "      <th>2</th>\n",
              "      <td>Norway</td>\n",
              "      <td>47</td>\n",
              "      <td>7</td>\n",
              "      <td>9</td>\n",
              "      <td>26</td>\n",
              "    </tr>\n",
              "    <tr>\n",
              "      <th>8</th>\n",
              "      <td>Germany</td>\n",
              "      <td>70</td>\n",
              "      <td>15</td>\n",
              "      <td>16</td>\n",
              "      <td>26</td>\n",
              "    </tr>\n",
              "  </tbody>\n",
              "</table>\n",
              "</div>\n",
              "      <button class=\"colab-df-convert\" onclick=\"convertToInteractive('df-773321d3-9408-4ee1-80bf-3374f668623d')\"\n",
              "              title=\"Convert this dataframe to an interactive table.\"\n",
              "              style=\"display:none;\">\n",
              "        \n",
              "  <svg xmlns=\"http://www.w3.org/2000/svg\" height=\"24px\"viewBox=\"0 0 24 24\"\n",
              "       width=\"24px\">\n",
              "    <path d=\"M0 0h24v24H0V0z\" fill=\"none\"/>\n",
              "    <path d=\"M18.56 5.44l.94 2.06.94-2.06 2.06-.94-2.06-.94-.94-2.06-.94 2.06-2.06.94zm-11 1L8.5 8.5l.94-2.06 2.06-.94-2.06-.94L8.5 2.5l-.94 2.06-2.06.94zm10 10l.94 2.06.94-2.06 2.06-.94-2.06-.94-.94-2.06-.94 2.06-2.06.94z\"/><path d=\"M17.41 7.96l-1.37-1.37c-.4-.4-.92-.59-1.43-.59-.52 0-1.04.2-1.43.59L10.3 9.45l-7.72 7.72c-.78.78-.78 2.05 0 2.83L4 21.41c.39.39.9.59 1.41.59.51 0 1.02-.2 1.41-.59l7.78-7.78 2.81-2.81c.8-.78.8-2.07 0-2.86zM5.41 20L4 18.59l7.72-7.72 1.47 1.35L5.41 20z\"/>\n",
              "  </svg>\n",
              "      </button>\n",
              "      \n",
              "  <style>\n",
              "    .colab-df-container {\n",
              "      display:flex;\n",
              "      flex-wrap:wrap;\n",
              "      gap: 12px;\n",
              "    }\n",
              "\n",
              "    .colab-df-convert {\n",
              "      background-color: #E8F0FE;\n",
              "      border: none;\n",
              "      border-radius: 50%;\n",
              "      cursor: pointer;\n",
              "      display: none;\n",
              "      fill: #1967D2;\n",
              "      height: 32px;\n",
              "      padding: 0 0 0 0;\n",
              "      width: 32px;\n",
              "    }\n",
              "\n",
              "    .colab-df-convert:hover {\n",
              "      background-color: #E2EBFA;\n",
              "      box-shadow: 0px 1px 2px rgba(60, 64, 67, 0.3), 0px 1px 3px 1px rgba(60, 64, 67, 0.15);\n",
              "      fill: #174EA6;\n",
              "    }\n",
              "\n",
              "    [theme=dark] .colab-df-convert {\n",
              "      background-color: #3B4455;\n",
              "      fill: #D2E3FC;\n",
              "    }\n",
              "\n",
              "    [theme=dark] .colab-df-convert:hover {\n",
              "      background-color: #434B5C;\n",
              "      box-shadow: 0px 1px 3px 1px rgba(0, 0, 0, 0.15);\n",
              "      filter: drop-shadow(0px 1px 2px rgba(0, 0, 0, 0.3));\n",
              "      fill: #FFFFFF;\n",
              "    }\n",
              "  </style>\n",
              "\n",
              "      <script>\n",
              "        const buttonEl =\n",
              "          document.querySelector('#df-773321d3-9408-4ee1-80bf-3374f668623d button.colab-df-convert');\n",
              "        buttonEl.style.display =\n",
              "          google.colab.kernel.accessAllowed ? 'block' : 'none';\n",
              "\n",
              "        async function convertToInteractive(key) {\n",
              "          const element = document.querySelector('#df-773321d3-9408-4ee1-80bf-3374f668623d');\n",
              "          const dataTable =\n",
              "            await google.colab.kernel.invokeFunction('convertToInteractive',\n",
              "                                                     [key], {});\n",
              "          if (!dataTable) return;\n",
              "\n",
              "          const docLinkHtml = 'Like what you see? Visit the ' +\n",
              "            '<a target=\"_blank\" href=https://colab.research.google.com/notebooks/data_table.ipynb>data table notebook</a>'\n",
              "            + ' to learn more about interactive tables.';\n",
              "          element.innerHTML = '';\n",
              "          dataTable['output_type'] = 'display_data';\n",
              "          await google.colab.output.renderOutput(dataTable, element);\n",
              "          const docLink = document.createElement('div');\n",
              "          docLink.innerHTML = docLinkHtml;\n",
              "          element.appendChild(docLink);\n",
              "        }\n",
              "      </script>\n",
              "    </div>\n",
              "  </div>\n",
              "  "
            ]
          },
          "metadata": {},
          "execution_count": 44
        }
      ]
    },
    {
      "cell_type": "code",
      "source": [
        "plt.figure(figsize=(12,6))\n",
        "plt.bar(x=df_combined['Host Country'], height=df_combined['Number of Wins'], color='teal')\n",
        "plt.bar(x=df_combined['Host Country'], height=df_combined['Number of Losses'], color='salmon')\n",
        "plt.xlabel('Host Country', fontsize=14)\n",
        "plt.ylabel('Number', fontsize=14)\n",
        "plt.xticks(rotation=90)\n",
        "plt.legend(['wins', 'losses'], fontsize=14)\n",
        "plt.title('Number Of Wins And Losses of the Top 10 Host Countries', fontsize=18)\n",
        "plt.show()"
      ],
      "metadata": {
        "colab": {
          "base_uri": "https://localhost:8080/",
          "height": 460
        },
        "id": "-cmGGhr6D6yz",
        "outputId": "e6199b9e-0723-4d75-d4e6-082959e334fb"
      },
      "execution_count": 45,
      "outputs": [
        {
          "output_type": "display_data",
          "data": {
            "text/plain": [
              "<Figure size 864x432 with 1 Axes>"
            ],
            "image/png": "[encoded data removed]"
          },
          "metadata": {
            "needs_background": "light"
          }
        }
      ]
    },
    {
      "cell_type": "markdown",
      "source": [
        "**Let's see the winners of the shootouts**"
      ],
      "metadata": {
        "id": "wlSHqaO0KHUh"
      }
    },
    {
      "cell_type": "code",
      "source": [
        "winners=[]\n",
        "for x in df_shootouts['winner'].unique():\n",
        "    winners.append(df_shootouts[df_shootouts['winner']==x]['Match_year'].nunique())"
      ],
      "metadata": {
        "id": "Z-3Co2dw7dlU"
      },
      "execution_count": 46,
      "outputs": []
    },
    {
      "cell_type": "code",
      "source": [
        "plt.figure(figsize=(10,6))\n",
        "plt.bar(x=df_shootouts['winner'].unique(), height=winners, color='cornflowerblue')\n",
        "plt.xticks(rotation=90)\n",
        "plt.xlabel('Winners', fontsize=14)\n",
        "plt.ylabel('Number of Matches', fontsize=14)\n",
        "plt.title('Winners of the Shootouts', fontsize=18)\n",
        "plt.show()"
      ],
      "metadata": {
        "colab": {
          "base_uri": "https://localhost:8080/",
          "height": 470
        },
        "id": "rfBnRJ8J8HOh",
        "outputId": "865f6813-69df-4a12-ce16-80a4d7d484c1"
      },
      "execution_count": 47,
      "outputs": [
        {
          "output_type": "display_data",
          "data": {
            "text/plain": [
              "<Figure size 720x432 with 1 Axes>"
            ],
            "image/png": "[encoded data removed]"
          },
          "metadata": {
            "needs_background": "light"
          }
        }
      ]
    },
    {
      "cell_type": "markdown",
      "source": [
        "**The United States was not only the most outstanding in matches; but also won most of the shootouts**"
      ],
      "metadata": {
        "id": "SvREZG9JC4hQ"
      }
    },
    {
      "cell_type": "markdown",
      "source": [
        "Let's check for draws of matches in the result dataset that were resolved in the shootout dataset by using their dates to match the rows of the results."
      ],
      "metadata": {
        "id": "yWxsypxw5eze"
      }
    },
    {
      "cell_type": "code",
      "source": [
        "np.where(df_results.date.eq(df_shootouts.date))==True"
      ],
      "metadata": {
        "colab": {
          "base_uri": "https://localhost:8080/"
        },
        "id": "1tPNS45YOmx-",
        "outputId": "d4470d71-ee53-4da3-d867-236c3766b46d"
      },
      "execution_count": 48,
      "outputs": [
        {
          "output_type": "execute_result",
          "data": {
            "text/plain": [
              "False"
            ]
          },
          "metadata": {},
          "execution_count": 48
        }
      ]
    },
    {
      "cell_type": "markdown",
      "source": [
        "**Therefore, the shootouts dataset have no connection with the results dataset and should not be used further.**"
      ],
      "metadata": {
        "id": "WsmlJ98IxOoi"
      }
    },
    {
      "cell_type": "markdown",
      "source": [
        "### **Feature Engineering/Model Building**"
      ],
      "metadata": {
        "id": "V-ZyjHI8wRPo"
      }
    },
    {
      "cell_type": "code",
      "source": [
        "from sklearn.model_selection import train_test_split\n",
        "from sklearn.linear_model import LogisticRegression\n",
        "from sklearn.ensemble import RandomForestClassifier\n",
        "from sklearn.tree import DecisionTreeClassifier\n",
        "from xgboost import XGBClassifier\n",
        "from sklearn.svm import SVC\n",
        "from collections import Counter\n",
        "from sklearn.metrics import accuracy_score, confusion_matrix, roc_auc_score, roc_curve\n",
        "from sklearn.model_selection import cross_val_score, StratifiedKFold, GridSearchCV, RandomizedSearchCV\n",
        "import warnings\n",
        "warnings.filterwarnings(\"ignore\")"
      ],
      "metadata": {
        "id": "oR4ZKpahwZSG"
      },
      "execution_count": 49,
      "outputs": []
    },
    {
      "cell_type": "code",
      "source": [
        "# creating the target variable\n",
        "df_results['verdict'] = np.where(df_results['home_score']>df_results['away_score'],1,0)"
      ],
      "metadata": {
        "id": "gNzbkjOmObp6"
      },
      "execution_count": 50,
      "outputs": []
    },
    {
      "cell_type": "code",
      "source": [
        "# encoding the neutral column\n",
        "df_results['neutral'] = np.where(df_results['neutral']==True, 1,0)"
      ],
      "metadata": {
        "id": "CLLil2gtPfWh"
      },
      "execution_count": 51,
      "outputs": []
    },
    {
      "cell_type": "code",
      "source": [
        "# encoding other categorical variables\n",
        "df_encoded = pd.get_dummies(data=df_results[['home_team','away_team','tournament']], prefix=['ht','at','tmt'], drop_first=True)\n",
        "df_encoded.head()"
      ],
      "metadata": {
        "colab": {
          "base_uri": "https://localhost:8080/",
          "height": 334
        },
        "id": "gpkndnTQSBH3",
        "outputId": "0b3397d0-2488-4221-8e4a-ab69ea5d8e77"
      },
      "execution_count": 52,
      "outputs": [
        {
          "output_type": "execute_result",
          "data": {
            "text/plain": [
              "   ht_Algeria  ht_American Samoa  ht_Andorra  ht_Angola  ht_Anguilla  \\\n",
              "0           0                  0           0          0            0   \n",
              "1           0                  0           0          0            0   \n",
              "2           0                  0           0          0            0   \n",
              "3           0                  0           0          0            0   \n",
              "4           0                  0           0          0            0   \n",
              "\n",
              "   ht_Antigua and Barbuda  ht_Argentina  ht_Armenia  ht_Aruba  ht_Australia  \\\n",
              "0                       0             0           0         0             0   \n",
              "1                       0             0           0         0             0   \n",
              "2                       0             0           0         0             0   \n",
              "3                       0             0           0         0             0   \n",
              "4                       0             0           0         0             0   \n",
              "\n",
              "   ...  tmt_Friendly  tmt_OFC Championship  tmt_OFC Nations Cup  \\\n",
              "0  ...             0                     0                    0   \n",
              "1  ...             0                     0                    0   \n",
              "2  ...             0                     0                    0   \n",
              "3  ...             0                     0                    0   \n",
              "4  ...             0                     0                    0   \n",
              "\n",
              "   tmt_OFC Nations Cup qualification  tmt_Olympic Games  \\\n",
              "0                                  0                  0   \n",
              "1                                  0                  0   \n",
              "2                                  0                  0   \n",
              "3                                  0                  0   \n",
              "4                                  0                  0   \n",
              "\n",
              "   tmt_Olympic Games qualification  tmt_SheBelieves Cup  \\\n",
              "0                                0                    0   \n",
              "1                                0                    0   \n",
              "2                                0                    0   \n",
              "3                                0                    0   \n",
              "4                                0                    0   \n",
              "\n",
              "   tmt_Tournoi de France  tmt_UEFA Euro  tmt_UEFA Euro qualification  \n",
              "0                      0              0                            0  \n",
              "1                      0              0                            0  \n",
              "2                      0              0                            0  \n",
              "3                      0              0                            0  \n",
              "4                      0              0                            0  \n",
              "\n",
              "[5 rows x 396 columns]"
            ],
            "text/html": [
              "\n",
              "  <div id=\"df-f09c715c-943d-487f-8a1f-48f5d97a559e\">\n",
              "    <div class=\"colab-df-container\">\n",
              "      <div>\n",
              "<style scoped>\n",
              "    .dataframe tbody tr th:only-of-type {\n",
              "        vertical-align: middle;\n",
              "    }\n",
              "\n",
              "    .dataframe tbody tr th {\n",
              "        vertical-align: top;\n",
              "    }\n",
              "\n",
              "    .dataframe thead th {\n",
              "        text-align: right;\n",
              "    }\n",
              "</style>\n",
              "<table border=\"1\" class=\"dataframe\">\n",
              "  <thead>\n",
              "    <tr style=\"text-align: right;\">\n",
              "      <th></th>\n",
              "      <th>ht_Algeria</th>\n",
              "      <th>ht_American Samoa</th>\n",
              "      <th>ht_Andorra</th>\n",
              "      <th>ht_Angola</th>\n",
              "      <th>ht_Anguilla</th>\n",
              "      <th>ht_Antigua and Barbuda</th>\n",
              "      <th>ht_Argentina</th>\n",
              "      <th>ht_Armenia</th>\n",
              "      <th>ht_Aruba</th>\n",
              "      <th>ht_Australia</th>\n",
              "      <th>...</th>\n",
              "      <th>tmt_Friendly</th>\n",
              "      <th>tmt_OFC Championship</th>\n",
              "      <th>tmt_OFC Nations Cup</th>\n",
              "      <th>tmt_OFC Nations Cup qualification</th>\n",
              "      <th>tmt_Olympic Games</th>\n",
              "      <th>tmt_Olympic Games qualification</th>\n",
              "      <th>tmt_SheBelieves Cup</th>\n",
              "      <th>tmt_Tournoi de France</th>\n",
              "      <th>tmt_UEFA Euro</th>\n",
              "      <th>tmt_UEFA Euro qualification</th>\n",
              "    </tr>\n",
              "  </thead>\n",
              "  <tbody>\n",
              "    <tr>\n",
              "      <th>0</th>\n",
              "      <td>0</td>\n",
              "      <td>0</td>\n",
              "      <td>0</td>\n",
              "      <td>0</td>\n",
              "      <td>0</td>\n",
              "      <td>0</td>\n",
              "      <td>0</td>\n",
              "      <td>0</td>\n",
              "      <td>0</td>\n",
              "      <td>0</td>\n",
              "      <td>...</td>\n",
              "      <td>0</td>\n",
              "      <td>0</td>\n",
              "      <td>0</td>\n",
              "      <td>0</td>\n",
              "      <td>0</td>\n",
              "      <td>0</td>\n",
              "      <td>0</td>\n",
              "      <td>0</td>\n",
              "      <td>0</td>\n",
              "      <td>0</td>\n",
              "    </tr>\n",
              "    <tr>\n",
              "      <th>1</th>\n",
              "      <td>0</td>\n",
              "      <td>0</td>\n",
              "      <td>0</td>\n",
              "      <td>0</td>\n",
              "      <td>0</td>\n",
              "      <td>0</td>\n",
              "      <td>0</td>\n",
              "      <td>0</td>\n",
              "      <td>0</td>\n",
              "      <td>0</td>\n",
              "      <td>...</td>\n",
              "      <td>0</td>\n",
              "      <td>0</td>\n",
              "      <td>0</td>\n",
              "      <td>0</td>\n",
              "      <td>0</td>\n",
              "      <td>0</td>\n",
              "      <td>0</td>\n",
              "      <td>0</td>\n",
              "      <td>0</td>\n",
              "      <td>0</td>\n",
              "    </tr>\n",
              "    <tr>\n",
              "      <th>2</th>\n",
              "      <td>0</td>\n",
              "      <td>0</td>\n",
              "      <td>0</td>\n",
              "      <td>0</td>\n",
              "      <td>0</td>\n",
              "      <td>0</td>\n",
              "      <td>0</td>\n",
              "      <td>0</td>\n",
              "      <td>0</td>\n",
              "      <td>0</td>\n",
              "      <td>...</td>\n",
              "      <td>0</td>\n",
              "      <td>0</td>\n",
              "      <td>0</td>\n",
              "      <td>0</td>\n",
              "      <td>0</td>\n",
              "      <td>0</td>\n",
              "      <td>0</td>\n",
              "      <td>0</td>\n",
              "      <td>0</td>\n",
              "      <td>0</td>\n",
              "    </tr>\n",
              "    <tr>\n",
              "      <th>3</th>\n",
              "      <td>0</td>\n",
              "      <td>0</td>\n",
              "      <td>0</td>\n",
              "      <td>0</td>\n",
              "      <td>0</td>\n",
              "      <td>0</td>\n",
              "      <td>0</td>\n",
              "      <td>0</td>\n",
              "      <td>0</td>\n",
              "      <td>0</td>\n",
              "      <td>...</td>\n",
              "      <td>0</td>\n",
              "      <td>0</td>\n",
              "      <td>0</td>\n",
              "      <td>0</td>\n",
              "      <td>0</td>\n",
              "      <td>0</td>\n",
              "      <td>0</td>\n",
              "      <td>0</td>\n",
              "      <td>0</td>\n",
              "      <td>0</td>\n",
              "    </tr>\n",
              "    <tr>\n",
              "      <th>4</th>\n",
              "      <td>0</td>\n",
              "      <td>0</td>\n",
              "      <td>0</td>\n",
              "      <td>0</td>\n",
              "      <td>0</td>\n",
              "      <td>0</td>\n",
              "      <td>0</td>\n",
              "      <td>0</td>\n",
              "      <td>0</td>\n",
              "      <td>0</td>\n",
              "      <td>...</td>\n",
              "      <td>0</td>\n",
              "      <td>0</td>\n",
              "      <td>0</td>\n",
              "      <td>0</td>\n",
              "      <td>0</td>\n",
              "      <td>0</td>\n",
              "      <td>0</td>\n",
              "      <td>0</td>\n",
              "      <td>0</td>\n",
              "      <td>0</td>\n",
              "    </tr>\n",
              "  </tbody>\n",
              "</table>\n",
              "<p>5 rows × 396 columns</p>\n",
              "</div>\n",
              "      <button class=\"colab-df-convert\" onclick=\"convertToInteractive('df-f09c715c-943d-487f-8a1f-48f5d97a559e')\"\n",
              "              title=\"Convert this dataframe to an interactive table.\"\n",
              "              style=\"display:none;\">\n",
              "        \n",
              "  <svg xmlns=\"http://www.w3.org/2000/svg\" height=\"24px\"viewBox=\"0 0 24 24\"\n",
              "       width=\"24px\">\n",
              "    <path d=\"M0 0h24v24H0V0z\" fill=\"none\"/>\n",
              "    <path d=\"M18.56 5.44l.94 2.06.94-2.06 2.06-.94-2.06-.94-.94-2.06-.94 2.06-2.06.94zm-11 1L8.5 8.5l.94-2.06 2.06-.94-2.06-.94L8.5 2.5l-.94 2.06-2.06.94zm10 10l.94 2.06.94-2.06 2.06-.94-2.06-.94-.94-2.06-.94 2.06-2.06.94z\"/><path d=\"M17.41 7.96l-1.37-1.37c-.4-.4-.92-.59-1.43-.59-.52 0-1.04.2-1.43.59L10.3 9.45l-7.72 7.72c-.78.78-.78 2.05 0 2.83L4 21.41c.39.39.9.59 1.41.59.51 0 1.02-.2 1.41-.59l7.78-7.78 2.81-2.81c.8-.78.8-2.07 0-2.86zM5.41 20L4 18.59l7.72-7.72 1.47 1.35L5.41 20z\"/>\n",
              "  </svg>\n",
              "      </button>\n",
              "      \n",
              "  <style>\n",
              "    .colab-df-container {\n",
              "      display:flex;\n",
              "      flex-wrap:wrap;\n",
              "      gap: 12px;\n",
              "    }\n",
              "\n",
              "    .colab-df-convert {\n",
              "      background-color: #E8F0FE;\n",
              "      border: none;\n",
              "      border-radius: 50%;\n",
              "      cursor: pointer;\n",
              "      display: none;\n",
              "      fill: #1967D2;\n",
              "      height: 32px;\n",
              "      padding: 0 0 0 0;\n",
              "      width: 32px;\n",
              "    }\n",
              "\n",
              "    .colab-df-convert:hover {\n",
              "      background-color: #E2EBFA;\n",
              "      box-shadow: 0px 1px 2px rgba(60, 64, 67, 0.3), 0px 1px 3px 1px rgba(60, 64, 67, 0.15);\n",
              "      fill: #174EA6;\n",
              "    }\n",
              "\n",
              "    [theme=dark] .colab-df-convert {\n",
              "      background-color: #3B4455;\n",
              "      fill: #D2E3FC;\n",
              "    }\n",
              "\n",
              "    [theme=dark] .colab-df-convert:hover {\n",
              "      background-color: #434B5C;\n",
              "      box-shadow: 0px 1px 3px 1px rgba(0, 0, 0, 0.15);\n",
              "      filter: drop-shadow(0px 1px 2px rgba(0, 0, 0, 0.3));\n",
              "      fill: #FFFFFF;\n",
              "    }\n",
              "  </style>\n",
              "\n",
              "      <script>\n",
              "        const buttonEl =\n",
              "          document.querySelector('#df-f09c715c-943d-487f-8a1f-48f5d97a559e button.colab-df-convert');\n",
              "        buttonEl.style.display =\n",
              "          google.colab.kernel.accessAllowed ? 'block' : 'none';\n",
              "\n",
              "        async function convertToInteractive(key) {\n",
              "          const element = document.querySelector('#df-f09c715c-943d-487f-8a1f-48f5d97a559e');\n",
              "          const dataTable =\n",
              "            await google.colab.kernel.invokeFunction('convertToInteractive',\n",
              "                                                     [key], {});\n",
              "          if (!dataTable) return;\n",
              "\n",
              "          const docLinkHtml = 'Like what you see? Visit the ' +\n",
              "            '<a target=\"_blank\" href=https://colab.research.google.com/notebooks/data_table.ipynb>data table notebook</a>'\n",
              "            + ' to learn more about interactive tables.';\n",
              "          element.innerHTML = '';\n",
              "          dataTable['output_type'] = 'display_data';\n",
              "          await google.colab.output.renderOutput(dataTable, element);\n",
              "          const docLink = document.createElement('div');\n",
              "          docLink.innerHTML = docLinkHtml;\n",
              "          element.appendChild(docLink);\n",
              "        }\n",
              "      </script>\n",
              "    </div>\n",
              "  </div>\n",
              "  "
            ]
          },
          "metadata": {},
          "execution_count": 52
        }
      ]
    },
    {
      "cell_type": "code",
      "source": [
        "df_useful = df_results[['neutral','verdict']]\n",
        "df_useful.head()"
      ],
      "metadata": {
        "colab": {
          "base_uri": "https://localhost:8080/",
          "height": 206
        },
        "id": "byoFp7S55Gvh",
        "outputId": "15601066-edfd-41f1-ddde-25d28a538672"
      },
      "execution_count": 53,
      "outputs": [
        {
          "output_type": "execute_result",
          "data": {
            "text/plain": [
              "   neutral  verdict\n",
              "0        0        1\n",
              "1        1        1\n",
              "2        1        1\n",
              "3        0        1\n",
              "4        1        1"
            ],
            "text/html": [
              "\n",
              "  <div id=\"df-57c47a27-5b90-4240-a7a2-4443e2c3ec6d\">\n",
              "    <div class=\"colab-df-container\">\n",
              "      <div>\n",
              "<style scoped>\n",
              "    .dataframe tbody tr th:only-of-type {\n",
              "        vertical-align: middle;\n",
              "    }\n",
              "\n",
              "    .dataframe tbody tr th {\n",
              "        vertical-align: top;\n",
              "    }\n",
              "\n",
              "    .dataframe thead th {\n",
              "        text-align: right;\n",
              "    }\n",
              "</style>\n",
              "<table border=\"1\" class=\"dataframe\">\n",
              "  <thead>\n",
              "    <tr style=\"text-align: right;\">\n",
              "      <th></th>\n",
              "      <th>neutral</th>\n",
              "      <th>verdict</th>\n",
              "    </tr>\n",
              "  </thead>\n",
              "  <tbody>\n",
              "    <tr>\n",
              "      <th>0</th>\n",
              "      <td>0</td>\n",
              "      <td>1</td>\n",
              "    </tr>\n",
              "    <tr>\n",
              "      <th>1</th>\n",
              "      <td>1</td>\n",
              "      <td>1</td>\n",
              "    </tr>\n",
              "    <tr>\n",
              "      <th>2</th>\n",
              "      <td>1</td>\n",
              "      <td>1</td>\n",
              "    </tr>\n",
              "    <tr>\n",
              "      <th>3</th>\n",
              "      <td>0</td>\n",
              "      <td>1</td>\n",
              "    </tr>\n",
              "    <tr>\n",
              "      <th>4</th>\n",
              "      <td>1</td>\n",
              "      <td>1</td>\n",
              "    </tr>\n",
              "  </tbody>\n",
              "</table>\n",
              "</div>\n",
              "      <button class=\"colab-df-convert\" onclick=\"convertToInteractive('df-57c47a27-5b90-4240-a7a2-4443e2c3ec6d')\"\n",
              "              title=\"Convert this dataframe to an interactive table.\"\n",
              "              style=\"display:none;\">\n",
              "        \n",
              "  <svg xmlns=\"http://www.w3.org/2000/svg\" height=\"24px\"viewBox=\"0 0 24 24\"\n",
              "       width=\"24px\">\n",
              "    <path d=\"M0 0h24v24H0V0z\" fill=\"none\"/>\n",
              "    <path d=\"M18.56 5.44l.94 2.06.94-2.06 2.06-.94-2.06-.94-.94-2.06-.94 2.06-2.06.94zm-11 1L8.5 8.5l.94-2.06 2.06-.94-2.06-.94L8.5 2.5l-.94 2.06-2.06.94zm10 10l.94 2.06.94-2.06 2.06-.94-2.06-.94-.94-2.06-.94 2.06-2.06.94z\"/><path d=\"M17.41 7.96l-1.37-1.37c-.4-.4-.92-.59-1.43-.59-.52 0-1.04.2-1.43.59L10.3 9.45l-7.72 7.72c-.78.78-.78 2.05 0 2.83L4 21.41c.39.39.9.59 1.41.59.51 0 1.02-.2 1.41-.59l7.78-7.78 2.81-2.81c.8-.78.8-2.07 0-2.86zM5.41 20L4 18.59l7.72-7.72 1.47 1.35L5.41 20z\"/>\n",
              "  </svg>\n",
              "      </button>\n",
              "      \n",
              "  <style>\n",
              "    .colab-df-container {\n",
              "      display:flex;\n",
              "      flex-wrap:wrap;\n",
              "      gap: 12px;\n",
              "    }\n",
              "\n",
              "    .colab-df-convert {\n",
              "      background-color: #E8F0FE;\n",
              "      border: none;\n",
              "      border-radius: 50%;\n",
              "      cursor: pointer;\n",
              "      display: none;\n",
              "      fill: #1967D2;\n",
              "      height: 32px;\n",
              "      padding: 0 0 0 0;\n",
              "      width: 32px;\n",
              "    }\n",
              "\n",
              "    .colab-df-convert:hover {\n",
              "      background-color: #E2EBFA;\n",
              "      box-shadow: 0px 1px 2px rgba(60, 64, 67, 0.3), 0px 1px 3px 1px rgba(60, 64, 67, 0.15);\n",
              "      fill: #174EA6;\n",
              "    }\n",
              "\n",
              "    [theme=dark] .colab-df-convert {\n",
              "      background-color: #3B4455;\n",
              "      fill: #D2E3FC;\n",
              "    }\n",
              "\n",
              "    [theme=dark] .colab-df-convert:hover {\n",
              "      background-color: #434B5C;\n",
              "      box-shadow: 0px 1px 3px 1px rgba(0, 0, 0, 0.15);\n",
              "      filter: drop-shadow(0px 1px 2px rgba(0, 0, 0, 0.3));\n",
              "      fill: #FFFFFF;\n",
              "    }\n",
              "  </style>\n",
              "\n",
              "      <script>\n",
              "        const buttonEl =\n",
              "          document.querySelector('#df-57c47a27-5b90-4240-a7a2-4443e2c3ec6d button.colab-df-convert');\n",
              "        buttonEl.style.display =\n",
              "          google.colab.kernel.accessAllowed ? 'block' : 'none';\n",
              "\n",
              "        async function convertToInteractive(key) {\n",
              "          const element = document.querySelector('#df-57c47a27-5b90-4240-a7a2-4443e2c3ec6d');\n",
              "          const dataTable =\n",
              "            await google.colab.kernel.invokeFunction('convertToInteractive',\n",
              "                                                     [key], {});\n",
              "          if (!dataTable) return;\n",
              "\n",
              "          const docLinkHtml = 'Like what you see? Visit the ' +\n",
              "            '<a target=\"_blank\" href=https://colab.research.google.com/notebooks/data_table.ipynb>data table notebook</a>'\n",
              "            + ' to learn more about interactive tables.';\n",
              "          element.innerHTML = '';\n",
              "          dataTable['output_type'] = 'display_data';\n",
              "          await google.colab.output.renderOutput(dataTable, element);\n",
              "          const docLink = document.createElement('div');\n",
              "          docLink.innerHTML = docLinkHtml;\n",
              "          element.appendChild(docLink);\n",
              "        }\n",
              "      </script>\n",
              "    </div>\n",
              "  </div>\n",
              "  "
            ]
          },
          "metadata": {},
          "execution_count": 53
        }
      ]
    },
    {
      "cell_type": "code",
      "source": [
        "df = pd.concat([df_encoded, df_useful], axis=1)"
      ],
      "metadata": {
        "id": "CK0GR87f5_S5"
      },
      "execution_count": 54,
      "outputs": []
    },
    {
      "cell_type": "code",
      "source": [
        "df.shape"
      ],
      "metadata": {
        "colab": {
          "base_uri": "https://localhost:8080/"
        },
        "id": "LxnN8HOj78p7",
        "outputId": "26862a1d-fe43-448b-fa4d-9baee39bbd58"
      },
      "execution_count": 55,
      "outputs": [
        {
          "output_type": "execute_result",
          "data": {
            "text/plain": [
              "(4314, 398)"
            ]
          },
          "metadata": {},
          "execution_count": 55
        }
      ]
    },
    {
      "cell_type": "code",
      "source": [
        "df.isna().sum()"
      ],
      "metadata": {
        "id": "vKem4Aoy1lWn",
        "outputId": "bc3c011f-5c2e-4c02-866a-b6c5629a5f27",
        "colab": {
          "base_uri": "https://localhost:8080/"
        }
      },
      "execution_count": 56,
      "outputs": [
        {
          "output_type": "execute_result",
          "data": {
            "text/plain": [
              "ht_Algeria                     0\n",
              "ht_American Samoa              0\n",
              "ht_Andorra                     0\n",
              "ht_Angola                      0\n",
              "ht_Anguilla                    0\n",
              "                              ..\n",
              "tmt_Tournoi de France          0\n",
              "tmt_UEFA Euro                  0\n",
              "tmt_UEFA Euro qualification    0\n",
              "neutral                        0\n",
              "verdict                        0\n",
              "Length: 398, dtype: int64"
            ]
          },
          "metadata": {},
          "execution_count": 56
        }
      ]
    },
    {
      "cell_type": "code",
      "source": [
        "X = df.drop(['verdict'], axis=1)\n",
        "y = df['verdict']"
      ],
      "metadata": {
        "id": "hzTJjl6d7kck"
      },
      "execution_count": 57,
      "outputs": []
    },
    {
      "cell_type": "code",
      "source": [
        "x_train, x_test, y_train, y_test = train_test_split(X, y, train_size=0.8, random_state=24)"
      ],
      "metadata": {
        "id": "GZabKrkT8_fJ"
      },
      "execution_count": 58,
      "outputs": []
    },
    {
      "cell_type": "code",
      "source": [
        "ytrain_count = Counter(y_train)\n",
        "print(f'Target distribution of y_train: {ytrain_count}')"
      ],
      "metadata": {
        "colab": {
          "base_uri": "https://localhost:8080/"
        },
        "id": "Y1U5vR38vmc_",
        "outputId": "8403a208-7a3d-427c-b14e-0f5eaf4a7366"
      },
      "execution_count": 59,
      "outputs": [
        {
          "output_type": "stream",
          "name": "stdout",
          "text": [
            "Target distribution of y_train: Counter({1: 1835, 0: 1616})\n"
          ]
        }
      ]
    },
    {
      "cell_type": "markdown",
      "source": [
        "The dataset will be trained using the following machine learning algorithms: Random Forest Classifier, Decision Tree Classifier, Extreme Gradient Boosting Classifier, Logistic Regression and Support Vector Classifier. The StratifiedKFold CV is used to further split the train data into train and validation sets in order to choose the appropriate model."
      ],
      "metadata": {
        "id": "UrN7AFRgHqsB"
      }
    },
    {
      "cell_type": "code",
      "source": [
        "rfc = RandomForestClassifier(random_state=24)\n",
        "rfc.fit(x_train, y_train)\n",
        "prob_rfc = rfc.predict_proba(x_test)[:, 1]"
      ],
      "metadata": {
        "id": "57VBrvxyZ87e"
      },
      "execution_count": 60,
      "outputs": []
    },
    {
      "cell_type": "code",
      "source": [
        "skfold =  StratifiedKFold(n_splits=10, shuffle=True, random_state=24)\n",
        "rfc_scores = cross_val_score(rfc, x_train, y_train, cv=skfold, scoring='accuracy')\n",
        "print(\"StratifiedKfold CV average score (Random Forest): %.3f\" % rfc_scores.mean(),  rfc_scores.std())"
      ],
      "metadata": {
        "colab": {
          "base_uri": "https://localhost:8080/"
        },
        "id": "iyuAAoW6aG1x",
        "outputId": "3d3068ff-4f6c-4fae-bd76-4b2a388f29ad"
      },
      "execution_count": 61,
      "outputs": [
        {
          "output_type": "stream",
          "name": "stdout",
          "text": [
            "StratifiedKfold CV average score (Random Forest): 0.700 0.016754541341819213\n"
          ]
        }
      ]
    },
    {
      "cell_type": "code",
      "source": [
        "dtr = DecisionTreeClassifier(random_state=24)\n",
        "dtr.fit(x_train, y_train)\n",
        "prob_dtr = dtr.predict_proba(x_test)[:, 1]"
      ],
      "metadata": {
        "id": "oIfwx9YfRiNF"
      },
      "execution_count": 62,
      "outputs": []
    },
    {
      "cell_type": "code",
      "source": [
        "dtr_scores = cross_val_score(dtr, x_train, y_train, cv=skfold, scoring='accuracy')\n",
        "print(\"Stratified Kfold CV average score (Decision Tree): %.3f\" % dtr_scores.mean(),  dtr_scores.std())"
      ],
      "metadata": {
        "colab": {
          "base_uri": "https://localhost:8080/"
        },
        "id": "N-T5PoughqKb",
        "outputId": "345250ce-5e15-44bb-f2f4-6433a62d9bf3"
      },
      "execution_count": 63,
      "outputs": [
        {
          "output_type": "stream",
          "name": "stdout",
          "text": [
            "Stratified Kfold CV average score (Decision Tree): 0.700 0.02839420535649747\n"
          ]
        }
      ]
    },
    {
      "cell_type": "code",
      "source": [
        "xgbc = XGBClassifier(random_state=24, tree_method='gpu_hist', gpu_id=0)\n",
        "xgbc.fit(x_train, y_train)\n",
        "prob_xgbc = xgbc.predict_proba(x_test)[:, 1]"
      ],
      "metadata": {
        "id": "P48yDmCQFNOe"
      },
      "execution_count": 64,
      "outputs": []
    },
    {
      "cell_type": "code",
      "source": [
        "# use mean and std to check how the model performed across different sets\n",
        "xgbc_scores = cross_val_score(xgbc, x_train, y_train, cv=skfold, scoring='accuracy')\n",
        "print(\"Stratified Kfold CV average score (XGBoost): %.3f\" % xgbc_scores.mean(),  xgbc_scores.std())"
      ],
      "metadata": {
        "colab": {
          "base_uri": "https://localhost:8080/"
        },
        "id": "FjPklPUjHV7Y",
        "outputId": "a9ce617d-af21-469b-f965-939a41c5e361"
      },
      "execution_count": 65,
      "outputs": [
        {
          "output_type": "stream",
          "name": "stdout",
          "text": [
            "Stratified Kfold CV average score (XGBoost): 0.661 0.01909753233478143\n"
          ]
        }
      ]
    },
    {
      "cell_type": "code",
      "source": [
        "lgr = LogisticRegression(random_state=24)\n",
        "lgr.fit(x_train, y_train)\n",
        "prob_lgr = lgr.predict_proba(x_test)[:, 1]"
      ],
      "metadata": {
        "id": "ekOMfYuQbpWd"
      },
      "execution_count": 66,
      "outputs": []
    },
    {
      "cell_type": "code",
      "source": [
        "lgr_scores = cross_val_score(lgr, x_train, y_train, cv=skfold, scoring='accuracy')\n",
        "print(\"StratifiedKfold CV average score (Logistic Regression): %.3f\" % lgr_scores.mean(), lgr_scores.std())"
      ],
      "metadata": {
        "colab": {
          "base_uri": "https://localhost:8080/"
        },
        "id": "ii_Cqd4CcmJt",
        "outputId": "d5f38caa-4565-4ad7-802e-abfc15bf3e93"
      },
      "execution_count": 67,
      "outputs": [
        {
          "output_type": "stream",
          "name": "stdout",
          "text": [
            "StratifiedKfold CV average score (Logistic Regression): 0.749 0.015607206866640676\n"
          ]
        }
      ]
    },
    {
      "cell_type": "code",
      "source": [
        "svc = SVC(kernel = 'poly', random_state=24, probability=True)\n",
        "svc.fit(x_train, y_train)\n",
        "prob_svc = svc.predict_proba(x_test)[:, 1]"
      ],
      "metadata": {
        "id": "Rsf41HT-ycvf"
      },
      "execution_count": 68,
      "outputs": []
    },
    {
      "cell_type": "code",
      "source": [
        "svc_scores = cross_val_score(svc, x_train, y_train, cv=skfold, scoring='accuracy')\n",
        "print(\"Stratified Kfold CV average score (Support Vector): %.3f\" % svc_scores.mean(), svc_scores.std())"
      ],
      "metadata": {
        "colab": {
          "base_uri": "https://localhost:8080/"
        },
        "id": "kMdvbzDKy1BE",
        "outputId": "d52f85d2-d339-4452-eb5b-a0c2e3c1cc6f"
      },
      "execution_count": 69,
      "outputs": [
        {
          "output_type": "stream",
          "name": "stdout",
          "text": [
            "Stratified Kfold CV average score (Support Vector): 0.711 0.020709033931312768\n"
          ]
        }
      ]
    },
    {
      "cell_type": "code",
      "source": [
        "auc_lgr = roc_auc_score(y_test, prob_lgr)\n",
        "fpr_lgr, tpr_lgr, thresholds_lgr = roc_curve(y_test, prob_lgr)\n",
        "\n",
        "auc_dtr = roc_auc_score(y_test, prob_dtr)\n",
        "fpr_dtr, tpr_dtr, thresholds_dtr = roc_curve(y_test, prob_dtr)\n",
        "\n",
        "auc_rfc = roc_auc_score(y_test, prob_rfc)\n",
        "fpr_rfc, tpr_rfc, thresholds_rfc = roc_curve(y_test, prob_rfc)\n",
        "\n",
        "auc_xgbc = roc_auc_score(y_test, prob_xgbc)\n",
        "fpr_xgbc, tpr_xgbc, thresholds_xg = roc_curve(y_test, prob_xgbc)\n",
        "\n",
        "auc_svc = roc_auc_score(y_test, prob_svc)\n",
        "fpr_svc, tpr_svc, thresholds_svc = roc_curve(y_test, prob_svc)\n",
        "\n",
        "plt.figure(figsize=(12, 7))\n",
        "plt.plot(fpr_rfc, tpr_rfc, label=f'AUC (Random Forests) = {auc_rfc:.2f}')\n",
        "plt.plot(fpr_dtr, tpr_dtr, label=f'AUC (Decision Tree) = {auc_dtr:.2f}')\n",
        "plt.plot(fpr_xgbc, tpr_xgbc, label=f'AUC (XGBoost) = {auc_xgbc:.2f}')\n",
        "plt.plot(fpr_lgr, tpr_lgr, label=f'AUC (Logistic Regression) = {auc_lgr:.2f}')\n",
        "plt.plot(fpr_svc, tpr_svc, label=f'AUC (SVM) = {auc_svc:.2f}')\n",
        "plt.plot([0, 1], [0, 1], color='blue', linestyle='--', label='Baseline')\n",
        "plt.title('ROC Curve', size=20)\n",
        "plt.xlabel('False Positive Rate', size=14)\n",
        "plt.ylabel('True Positive Rate', size=14)\n",
        "plt.legend()"
      ],
      "metadata": {
        "colab": {
          "base_uri": "https://localhost:8080/",
          "height": 484
        },
        "id": "JBsLHirpTFBu",
        "outputId": "fb6ab417-0acf-4aa7-dc5b-28ff5de4db8a"
      },
      "execution_count": 70,
      "outputs": [
        {
          "output_type": "execute_result",
          "data": {
            "text/plain": [
              "<matplotlib.legend.Legend at 0x7f054c524950>"
            ]
          },
          "metadata": {},
          "execution_count": 70
        },
        {
          "output_type": "display_data",
          "data": {
            "text/plain": [
              "<Figure size 864x504 with 1 Axes>"
            ],
            "image/png": "[encoded data removed]"
          },
          "metadata": {
            "needs_background": "light"
          }
        }
      ]
    },
    {
      "cell_type": "markdown",
      "source": [
        "### **Model Selection/Optimization**"
      ],
      "metadata": {
        "id": "Omeg89vCHC8e"
      }
    },
    {
      "cell_type": "markdown",
      "source": [
        "The chosen model is Logistic Regression because it has the highest AUC and CV score"
      ],
      "metadata": {
        "id": "pQTjXU25HP6G"
      }
    },
    {
      "cell_type": "code",
      "source": [
        "params = {\n",
        "    'solver' : ['newton-cg', 'lbfgs', 'liblinear', 'sag', 'saga'],\n",
        "    'penalty' : ['none', 'l1', 'l2', 'elasticnet'],\n",
        "    'C' : [100, 10, 1.0, 0.1, 0.01]\n",
        "}\n",
        "\n",
        "lgr_opt = GridSearchCV(estimator=lgr, param_grid=params, n_jobs=-1, cv=skfold, scoring='accuracy')"
      ],
      "metadata": {
        "id": "Kgq-tN6kogVv"
      },
      "execution_count": 71,
      "outputs": []
    },
    {
      "cell_type": "code",
      "source": [
        "lgr_opt.fit(x_train, y_train)\n",
        "y_pred = lgr_opt.predict(x_test)"
      ],
      "metadata": {
        "id": "JNpkuw-sqLIR"
      },
      "execution_count": 72,
      "outputs": []
    },
    {
      "cell_type": "code",
      "source": [
        "lgr_opt.best_params_, lgr_opt.best_score_"
      ],
      "metadata": {
        "colab": {
          "base_uri": "https://localhost:8080/"
        },
        "id": "zUGmyBqAsJJj",
        "outputId": "59cd9951-55a1-4740-a48f-7f123640e503"
      },
      "execution_count": 73,
      "outputs": [
        {
          "output_type": "execute_result",
          "data": {
            "text/plain": [
              "({'C': 10, 'penalty': 'l2', 'solver': 'lbfgs'}, 0.7568861522995729)"
            ]
          },
          "metadata": {},
          "execution_count": 73
        }
      ]
    },
    {
      "cell_type": "markdown",
      "source": [
        "### **Model Evaluation**"
      ],
      "metadata": {
        "id": "33X1JxwJgaO2"
      }
    },
    {
      "cell_type": "code",
      "source": [
        "accuracy = accuracy_score(y_test, y_pred)\n",
        "print(\"Accuracy of Optimal model (Logistic Regression): %.2f%%\" % (accuracy * 100))"
      ],
      "metadata": {
        "colab": {
          "base_uri": "https://localhost:8080/"
        },
        "id": "H0R0GrL-z_md",
        "outputId": "cfb7ebfc-50ed-491d-f109-392eacdd330e"
      },
      "execution_count": 74,
      "outputs": [
        {
          "output_type": "stream",
          "name": "stdout",
          "text": [
            "Accuracy of Optimal value: 72.54%\n"
          ]
        }
      ]
    },
    {
      "cell_type": "code",
      "source": [
        "confusion_matrix(y_test, y_pred)"
      ],
      "metadata": {
        "colab": {
          "base_uri": "https://localhost:8080/"
        },
        "id": "8-f4JKLv-GoO",
        "outputId": "935c29bf-e655-45c3-a3b3-5c1b32a75dfc"
      },
      "execution_count": 75,
      "outputs": [
        {
          "output_type": "execute_result",
          "data": {
            "text/plain": [
              "array([[265, 138],\n",
              "       [ 99, 361]])"
            ]
          },
          "metadata": {},
          "execution_count": 75
        }
      ]
    },
    {
      "cell_type": "code",
      "source": [
        "tn, fp, fn, tp = confusion_matrix(y_test, y_pred).ravel()\n",
        "tn, fp, fn, tp"
      ],
      "metadata": {
        "colab": {
          "base_uri": "https://localhost:8080/"
        },
        "id": "wVOplTpYCriN",
        "outputId": "1697c58f-9c00-4651-8e8b-9e43150f0f62"
      },
      "execution_count": 76,
      "outputs": [
        {
          "output_type": "execute_result",
          "data": {
            "text/plain": [
              "(265, 138, 99, 361)"
            ]
          },
          "metadata": {},
          "execution_count": 76
        }
      ]
    },
    {
      "cell_type": "code",
      "source": [
        "roc_auc_score(y_test, y_pred)"
      ],
      "metadata": {
        "colab": {
          "base_uri": "https://localhost:8080/"
        },
        "id": "w0uJPD5oG36z",
        "outputId": "daf5db78-50bd-4fd4-8eec-6f20e5dc0e7b"
      },
      "execution_count": 77,
      "outputs": [
        {
          "output_type": "execute_result",
          "data": {
            "text/plain": [
              "0.7211754234545258"
            ]
          },
          "metadata": {},
          "execution_count": 77
        }
      ]
    }
  ]
}